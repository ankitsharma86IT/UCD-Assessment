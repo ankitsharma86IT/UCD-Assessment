{
 "cells": [
  {
   "cell_type": "code",
   "execution_count": 31,
   "id": "3617d375",
   "metadata": {},
   "outputs": [],
   "source": [
    "import pandas as pd\n",
    "import numpy as np\n",
    "import matplotlib.pyplot as plt\n",
    "import requests\n",
    "import json\n",
    "import seaborn as sns\n",
    "import re\n",
    "from sklearn.model_selection import train_test_split\n",
    "from sklearn.linear_model import LogisticRegression\n",
    "from sklearn.neighbors import KNeighborsClassifier\n",
    "from sklearn.ensemble import RandomForestClassifier\n",
    "from sklearn.model_selection import RandomizedSearchCV, GridSearchCV\n",
    "import sklearn\n",
    "%matplotlib inline\n",
    "import pandas\n",
    "import numpy\n",
    "from sklearn.metrics import accuracy_score\n"
   ]
  },
  {
   "cell_type": "code",
   "execution_count": 32,
   "id": "cb3908b6",
   "metadata": {},
   "outputs": [],
   "source": [
    "pd.set_option('display.max_rows', 10)\n",
    "pd.set_option('display.max_columns', 10)"
   ]
  },
  {
   "cell_type": "code",
   "execution_count": 33,
   "id": "17f150fa",
   "metadata": {},
   "outputs": [],
   "source": [
    "def build_dateframe(file):\n",
    "    \"\"\"This function will create Pandas DataFrame\"\"\"\n",
    "    df = pd.read_csv(file)\n",
    "    return df\n",
    "\n",
    "\n",
    "def draw_histogram(dataframe):\n",
    "    \"\"\"create histogram for dataframe passed\"\"\"\n",
    "    dataframe.isna().sum().plot(kind='bar')\n",
    "    plt.show()\n",
    "\n",
    "\n",
    "def type_categorization(df1, df2):\n",
    "    \"\"\"create histogram to categorize types of two dataframes\"\"\"\n",
    "    df1['type'].hist(bins=80, alpha=0.8)\n",
    "    df2['type'].hist(bins=80, alpha=0.8)\n",
    "    plt.legend(['Disney_Plus', 'Hulu'])\n",
    "    plt.show()\n",
    "\n",
    "def missing_values_check(dataframe):\n",
    "    \"\"\"This will check missing values within dataframe\"\"\"\n",
    "    movie_missing = dataframe.isnull().sum()\n",
    "    return movie_missing\n",
    "\n",
    "\n",
    "def count_entries(file_name, chunk_size, colname):\n",
    "    \"\"\" This will return a dictionary with counts of occurrences as value for key\"\"\"\n",
    "    counts_dict = {}\n",
    "    for chunk in pd.read_csv(file_name, chunksize=chunk_size):\n",
    "        for entry in chunk[colname]:\n",
    "            if entry in counts_dict.keys():\n",
    "                counts_dict[entry] += 1\n",
    "            else:\n",
    "                counts_dict[entry] = 1\n",
    "    return counts_dict\n",
    "\n"
   ]
  },
  {
   "cell_type": "code",
   "execution_count": 34,
   "id": "183779df",
   "metadata": {},
   "outputs": [],
   "source": [
    "# loading data from csv file\n",
    "df_disney_plus= build_dateframe('C:/Users/Swara/UCD Assessment/disney_plus_titles.csv')\n",
    "df_hulu = build_dateframe('C:/Users/Swara/UCD Assessment/hulu_titles.csv')\n"
   ]
  },
  {
   "cell_type": "code",
   "execution_count": 35,
   "id": "d5412209",
   "metadata": {},
   "outputs": [
    {
     "name": "stdout",
     "output_type": "stream",
     "text": [
      "Display Missing Values - Disney Plus:  show_id           0\n",
      "type              0\n",
      "title             0\n",
      "director        473\n",
      "cast            190\n",
      "               ... \n",
      "release_year      0\n",
      "rating            3\n",
      "duration          0\n",
      "listed_in         0\n",
      "description       0\n",
      "Length: 12, dtype: int64\n",
      "Display Missing Values - Hulu :  show_id            0\n",
      "type               0\n",
      "title              0\n",
      "director        3070\n",
      "cast            3073\n",
      "                ... \n",
      "release_year       0\n",
      "rating           520\n",
      "duration         479\n",
      "listed_in          0\n",
      "description        4\n",
      "Length: 12, dtype: int64\n",
      "Empty DataFrame\n",
      "Columns: [show_id, type, title, director, cast, country, date_added, release_year, rating, duration, listed_in, description]\n",
      "Index: []\n",
      "\n",
      "[0 rows x 12 columns]\n",
      "Empty DataFrame\n",
      "Columns: [show_id, type, title, director, cast, country, date_added, release_year, rating, duration, listed_in, description]\n",
      "Index: []\n",
      "\n",
      "[0 rows x 12 columns]\n"
     ]
    }
   ],
   "source": [
    "# Code to demonstrate basic operations on pandas dataframe like find missing & duplicate\n",
    "\n",
    "disney_missing = missing_values_check(df_disney_plus)\n",
    "hulu_missing = missing_values_check(df_hulu)\n",
    "print('Display Missing Values - Disney Plus: ',  disney_missing)\n",
    "print('Display Missing Values - Hulu : ', hulu_missing)\n",
    "disney_dups = df_disney_plus.duplicated(subset=['title'], keep=False)\n",
    "print(df_disney_plus[disney_dups])\n",
    "hulu_dups = df_hulu.duplicated(subset=['title'], keep=False)\n",
    "print(df_hulu[hulu_dups])\n"
   ]
  },
  {
   "cell_type": "code",
   "execution_count": 36,
   "id": "b68d6ee6",
   "metadata": {},
   "outputs": [
    {
     "name": "stdout",
     "output_type": "stream",
     "text": [
      "<class 'pandas.core.frame.DataFrame'>\n",
      "Int64Index: 4523 entries, 0 to 3072\n",
      "Data columns (total 12 columns):\n",
      " #   Column        Non-Null Count  Dtype \n",
      "---  ------        --------------  ----- \n",
      " 0   show_id       4523 non-null   object\n",
      " 1   type          4523 non-null   object\n",
      " 2   title         4523 non-null   object\n",
      " 3   director      980 non-null    object\n",
      " 4   cast          1260 non-null   object\n",
      " 5   country       2851 non-null   object\n",
      " 6   date_added    4492 non-null   object\n",
      " 7   release_year  4523 non-null   int64 \n",
      " 8   rating        4000 non-null   object\n",
      " 9   duration      4044 non-null   object\n",
      " 10  listed_in     4523 non-null   object\n",
      " 11  description   4519 non-null   object\n",
      "dtypes: int64(1), object(11)\n",
      "memory usage: 459.4+ KB\n",
      "None\n",
      "<class 'pandas.core.frame.DataFrame'>\n",
      "Int64Index: 64 entries, 2 to 2755\n",
      "Data columns (total 12 columns):\n",
      " #   Column        Non-Null Count  Dtype \n",
      "---  ------        --------------  ----- \n",
      " 0   show_id       64 non-null     object\n",
      " 1   type          64 non-null     object\n",
      " 2   title         64 non-null     object\n",
      " 3   director      13 non-null     object\n",
      " 4   cast          29 non-null     object\n",
      " 5   country       43 non-null     object\n",
      " 6   date_added    64 non-null     object\n",
      " 7   release_year  64 non-null     int64 \n",
      " 8   rating        61 non-null     object\n",
      " 9   duration      55 non-null     object\n",
      " 10  listed_in     64 non-null     object\n",
      " 11  description   64 non-null     object\n",
      "dtypes: int64(1), object(11)\n",
      "memory usage: 6.5+ KB\n",
      "None\n",
      "<class 'pandas.core.frame.DataFrame'>\n",
      "Int64Index: 4520 entries, 0 to 3072\n",
      "Data columns (total 12 columns):\n",
      " #   Column        Non-Null Count  Dtype \n",
      "---  ------        --------------  ----- \n",
      " 0   show_id       4520 non-null   object\n",
      " 1   type          4520 non-null   object\n",
      " 2   title         4520 non-null   object\n",
      " 3   director      980 non-null    object\n",
      " 4   cast          1260 non-null   object\n",
      " 5   country       2850 non-null   object\n",
      " 6   date_added    4489 non-null   object\n",
      " 7   release_year  4520 non-null   int64 \n",
      " 8   rating        3998 non-null   object\n",
      " 9   duration      4043 non-null   object\n",
      " 10  listed_in     4520 non-null   object\n",
      " 11  description   4516 non-null   object\n",
      "dtypes: int64(1), object(11)\n",
      "memory usage: 459.1+ KB\n",
      "None\n"
     ]
    }
   ],
   "source": [
    "# Merging dataframes and removing duplicates\n",
    "\n",
    "df_merge = pd.concat([df_disney_plus, df_hulu])\n",
    "print(df_merge.info())\n",
    "duplicates_combined = df_merge.duplicated(subset=['title'], keep=False)\n",
    "print(df_merge[duplicates_combined].info())\n",
    "#Drop duplicates\n",
    "distinct_movies = df_merge.drop_duplicates(subset=['title','director','cast'])\n",
    "print(distinct_movies.info())\n",
    "\n"
   ]
  },
  {
   "cell_type": "code",
   "execution_count": 37,
   "id": "39596798",
   "metadata": {},
   "outputs": [
    {
     "name": "stdout",
     "output_type": "stream",
     "text": [
      "{2016: 61, 1988: 6, 2011: 52, 2021: 125, 2015: 46, 2019: 99, 2008: 33, 2020: 114, 2007: 23, 2013: 32, 2018: 65, 2014: 50, 2012: 41, 2006: 32, 2010: 39, 1996: 17, 2009: 35, 2017: 69, 1993: 14, 1994: 14, 1998: 20, 1989: 7, 1997: 17, 2005: 32, 2000: 26, 2004: 28, 1987: 6, 1985: 8, 1967: 2, 1973: 2, 1991: 6, 1956: 4, 1995: 13, 1984: 4, 1974: 4, 1959: 5, 2003: 29, 1976: 4, 2001: 18, 1990: 5, 1992: 10, 1952: 8, 1955: 9, 1977: 6, 1957: 4, 1999: 22, 1948: 5, 1964: 3, 1969: 4, 1942: 6, 1950: 6, 1951: 4, 1953: 6, 1949: 5, 1940: 7, 1946: 2, 1954: 4, 1936: 6, 1944: 1, 1935: 4, 1939: 5, 1975: 4, 1978: 4, 2002: 21, 1971: 3, 1961: 5, 1962: 3, 1981: 3, 1932: 3, 1938: 5, 1941: 7, 1986: 7, 1947: 5, 1937: 6, 1966: 2, 1943: 2, 1934: 4, 1980: 4, 1960: 3, 1983: 2, 1972: 3, 1982: 2, 1979: 5, 1928: 1, 1965: 3, 1970: 1, 1963: 3, 1933: 3, 1945: 1, 1968: 1}\n"
     ]
    }
   ],
   "source": [
    "# Code to demonstrate creating function, dictionary, using iterators\n",
    "\n",
    "result_counts = count_entries('C:/Users/Swara/UCD Assessment/disney_plus_titles.csv', 10, 'release_year')\n",
    "print(result_counts)\n"
   ]
  },
  {
   "cell_type": "code",
   "execution_count": 38,
   "id": "b1219353",
   "metadata": {},
   "outputs": [
    {
     "data": {
      "image/png": "[encoded data removed]",
      "text/plain": [
       "<Figure size 432x288 with 1 Axes>"
      ]
     },
     "metadata": {
      "needs_background": "light"
     },
     "output_type": "display_data"
    },
    {
     "data": {
      "image/png": "[encoded data removed]",
      "text/plain": [
       "<Figure size 432x288 with 1 Axes>"
      ]
     },
     "metadata": {
      "needs_background": "light"
     },
     "output_type": "display_data"
    },
    {
     "data": {
      "image/png": "[encoded data removed]",
      "text/plain": [
       "<Figure size 432x288 with 1 Axes>"
      ]
     },
     "metadata": {
      "needs_background": "light"
     },
     "output_type": "display_data"
    }
   ],
   "source": [
    "# histogram for two dataframe\n",
    "\n",
    "draw_histogram(df_disney_plus)\n",
    "draw_histogram(df_hulu)\n",
    "\n",
    "# Compare type of each dat set(TV,Movie Show)\n",
    "\n",
    "type_categorization(df_disney_plus, df_hulu)\n",
    "\n"
   ]
  },
  {
   "cell_type": "code",
   "execution_count": 39,
   "id": "9c3c78ef",
   "metadata": {},
   "outputs": [
    {
     "name": "stdout",
     "output_type": "stream",
     "text": [
      "Active cases in South Andaman: 19\n"
     ]
    }
   ],
   "source": [
    "# Code to demonstrate loading data from API\n",
    "response_API = requests.get('https://api.covid19india.org/state_district_wise.json')\n",
    "#print(response_API.status_code)\n",
    "data = response_API.text\n",
    "parse_json = json.loads(data)\n",
    "active_case = parse_json['Andaman and Nicobar Islands']['districtData']['South Andaman']['active']\n",
    "print(\"Active cases in South Andaman:\", active_case)"
   ]
  },
  {
   "cell_type": "code",
   "execution_count": 40,
   "id": "00b2f24d",
   "metadata": {},
   "outputs": [
    {
     "name": "stdout",
     "output_type": "stream",
     "text": [
      "[['#fabulous', '#Seductive', '#stress'], ['#29DaysToGo'], ['#fail'], ['#VX358', '#noair', '#worstflightever', '#roasted', '#SFOtoBOS'], ['#sendambien', '#andchexmix'], ['#MoodlitMonday', '#ScienceBehindTheExperience'], ['#MoodlitMonday'], ['#travelhelp'], ['#elevategold'], ['#tribute', '#SoundOfMusic', '#Oscars2015'], ['#guiltypleasures'], ['#CarrieUnderwood'], ['#CMFat35000feet'], ['#neverflyvirginforbusiness'], ['#inflight', '#flightattendant', '#dreampath'], ['#neverflyvirginforbusiness'], ['#neverflyvirgin'], ['#change'], ['#nomorevirgin'], ['#uncomfortable'], ['#sfo2lax'], ['#sneaky'], ['#customerservice', '#virginamerica', '#flying'], ['#sarcasm'], ['#CheapFlights', '#FareCompare'], ['#CheapFlights', '#FareCompare'], ['#CheapFlights', '#FareCompare'], ['#CheapFlights', '#FareCompare'], ['#PHL', '#pleasecomeback'], ['#VAbeatsJblue'], ['#Oscars2015'], ['#likingyoulessandless'], ['#Oscars', '#redcarpet', '#oscars', '#oscars2015'], ['#frustrated'], ['#lame'], ['#irmafromDallas'], ['#PrincessHalf'], ['#flight', '#dc', '#sunset', '#globe', '#backtowinter', '#work', '#refreshed'], ['#redwineisbetter'], ['#Emirates'], ['#baggageissues', '#smh'], ['#SouthwestAir'], ['#flights'], ['#disappointed'], ['#Elevate', '#Gold'], ['#worst', '#flight'], ['#AmericanAirlines'], ['#disappointed', '#expected'], ['#beatstheothers'], ['#seriously'], ['#soreback'], ['#diehardvirgin'], ['#sad'], ['#help'], ['#MeetTheFleet', '#Oscars'], ['#disruption', '#FCmostinnovative', '#incubator'], ['#airplanemodewason'], ['#Boston', '#SanFrancisco'], ['#Vodkatonics', '#sfo'], ['#OSCARS2105', '#AvalonHollywood'], ['#OscarsCountdown'], ['#wtf'], ['#sweet'], ['#MayweatherPacquiao'], ['#MayweatherPacquiao'], ['#amazing'], ['#DISAPPOINTED'], ['#help'], ['#JFK', '#BOS', '#DCA'], ['#sorrynotsorry'], ['#Comps'], ['#freyasfund'], ['#SanFrancisco', '#biztravel'], ['#rockstar', '#LAS2SFO', '#BestCrew', '#SheRocks'], ['#rockstars', '#travel'], ['#travel', '#SAN', '#SFO'], ['#ourprincess', '#freyasfund', '#USA', '#Bandie'], ['#SilverStatus'], ['#ourprincess', '#USA'], ['#statusmatch', '#virginamerica'], ['#SanFrancisco'], ['#so'], ['#Dallas', '#Austin'], ['#help', '#dontdothistome'], ['#etailwest', '#payments', '#visa'], ['#VXSafetyDance'], ['#150219'], ['#livewelltraveled', '#sytycd'], ['#Southwest', '#jetblue'], ['#MiddleEast'], ['#MiddleEast'], ['#MiddleEast'], ['#help'], ['#texas', '#moodlighting'], ['#apostrophefail'], ['#TinderTips', '#tinderchamp'], ['#A319', '#Dallas', '#Austin', '#avgeek'], ['#SanDiego'], ['#thankyou'], ['#nerdbird'], ['#nerdbird'], ['#FreeNeverSucks'], ['#virginamerica', '#weather'], ['#thestarter'], ['#ScienceBehindTheExperience'], ['#myVXexperience'], ['#NYC', '#PA', '#Philly'], ['#WeRVirgin'], ['#Fargo'], ['#letsgohome'], ['#united'], ['#8719519'], ['#tiredofwaiting'], ['#Platinum', '#spoiled'], ['#Newarkliberty', '#Flyingainteasy'], ['#badcustomerservice'], ['#customerservice'], ['#tiredofthis'], ['#22'], ['#unacceptable'], ['#united', '#unitedbreaksguitars', '#wantmymoneyback'], ['#TelAviv'], ['#choosekind'], ['#servicedog'], ['#worst2unitedflightsever', '#wtfodds'], ['#worst2unitedflightsever'], ['#worst2unitedflightsever'], ['#scam'], ['#pathetic', '#customerservice'], ['#scheduling'], ['#Ridiculousness', '#learncustomerservice'], ['#1585'], ['#California'], ['#pennypincher'], ['#UnitedAirlines'], ['#youcouldntmakethis', '#brokenwheel'], ['#UnitedAirlines'], ['#UnitedAirlines', '#lostluggage'], ['#GetMartyHome'], ['#UnitedAirlines'], ['#fail'], ['#unitedairlines'], ['#FAIL'], ['#FAIL'], ['#fail'], ['#neveragain', '#UnitedAirlines'], ['#fail'], ['#GonnaBeALongNight'], ['#annoyed'], ['#fail'], ['#HelpImStuck', '#United'], ['#html5'], ['#friendlyskies'], ['#ua6076', '#notcool'], ['#systemwide', '#united', '#cyberattack'], ['#StatusMatchPaidOff'], ['#8477733'], ['#wastedtime'], ['#frustrating'], ['#funnycaptain'], ['#goodenoughmother'], ['#friendlyskies'], ['#PH6RPS'], ['#friendlyskies'], ['#PH6RPS'], ['#OHare', '#gross', '#HelpMePlease', '#AnyoneThere'], ['#BusinessTravel', '#goodenoughmother'], ['#disgutedindenver'], ['#unfriendlyskies'], ['#UnFriendlySkies'], ['#UnitedAirlines'], ['#spousal'], ['#albanyairport', '#poorcustomerservice'], ['#frustrated'], ['#AlwaysDelayedOnUnited'], ['#terrible', '#branson', '#virginatlantic', '#UnitedAirlines'], ['#ContinentalAirlines', '#CommunicationFail'], ['#notfair'], ['#theworst'], ['#Unacceptable'], ['#United', '#PoorService'], ['#UnitedAirlines', '#AspenBaggageFail', '#Aspen'], ['#United', '#NOANSWER'], ['#WTF', '#fb'], ['#epicfailunited'], ['#PressureCooker', '#HeatTrap'], ['#badservice'], ['#stillnobags', '#ridiculous'], ['#missedWork', '#clientNotHappy'], ['#thankyou'], ['#usairwaysfail'], ['#1589'], ['#linesforever', '#customerservice', '#fail', '#again'], ['#1589'], ['#unitedairlines'], ['#customerservice'], ['#381'], ['#customerservice'], ['#family', '#precioustime'], ['#EWR'], ['#UnitedAirlines'], ['#waitingonapilot', '#denver', '#siouxfalls', '#whyairtravelsucks'], ['#UnitedAirlines'], ['#roadwarrior'], ['#UnitedAirlines'], ['#btv', '#cun', '#ewr'], ['#WORSTCUSTOMERSERVICE'], ['#United', '#flierfriendly'], ['#united'], ['#flierfriendly'], ['#B767', '#Newark', '#Zurich', '#avgeek'], ['#neveragain', '#WORSTCUSTOMERSERVICE'], ['#B777', '#Newark', '#Milan', '#Malpensa', '#B767', '#avgeek'], ['#B777', '#Newark', '#Frankfurt', '#B767', '#avgeek'], ['#bad4business'], ['#worstservice'], ['#terribleservice', '#NoService'], ['#ServiceFail'], ['#badservice'], ['#epicfail', '#CX'], ['#notcool'], ['#notcomingback'], ['#fuckinlame'], ['#lastflightwithyouever'], ['#inconvenience'], ['#cxp'], ['#Fail'], ['#UA992'], ['#UA992'], ['#unitedairlines'], ['#joke'], ['#AirlineSecurity'], ['#united'], ['#nogate', '#fail', '#worstairlineever'], ['#howisthatpossible'], ['#unacceptable', '#ORD'], ['#oscars2016'], ['#Oscars'], ['#welldone', '#goodflight', '#friendlysky'], ['#frauds'], ['#gottogetbetter'], ['#DEN'], ['#hotelliving'], ['#liars', '#united'], ['#FlightFail', '#Hour20Delay'], ['#happycustomer'], ['#quote'], ['#StrandUsInDenver', '#HourAndTenMinuteDelay', '#FlightFail'], ['#badservice'], ['#HourDelay', '#MultipleDoorOpeningAndClosing', '#DangerOfGettingSnowedIn'], ['#UA6259', '#UA5525'], ['#1758', '#findanothergate'], ['#ua1758'], ['#fedup', '#disastrous'], ['#UA484'], ['#UA1510', '#Cheap', '#WorstAirline'], ['#UA3785'], ['#WTF', '#united', '#incompetent'], ['#incompetent'], ['#UA5525', '#UA6259'], ['#OscarNight'], ['#united'], ['#UnitedAirlines'], ['#incompetence'], ['#flythefriendlyskies'], ['#unitedworstever', '#trappedhouston'], ['#winterstorm2015', '#whichisworsedenordfw'], ['#LAX', '#sunrise'], ['#UnitedAirlines'], ['#DEN'], ['#grumpykim'], ['#UnitedAirlines'], ['#UnitedAirlines'], ['#worstairlineever'], ['#fail', '#lazy', '#alwaysLate', '#worstairlineever'], ['#worst'], ['#customerservice'], ['#worstairline'], ['#wifi'], ['#WorstAirlineEver', '#UnitedAirlines'], ['#nomorecheckedbags'], ['#Oscars'], ['#GiveThoseLadiesRaise'], ['#disappointed'], ['#UA1481'], ['#TCMParty', '#CE3K', '#31DaysOfOscar'], ['#disspointed', '#premier1k'], ['#unitedsucks'], ['#americanisbetter'], ['#disgruntled', '#whatacluster'], ['#disgruntled'], ['#flydeltanexttime'], ['#UnitedAirlinesSux'], ['#badservice', '#unitedsucks'], ['#rude', '#cheap'], ['#Oscars'], ['#PTFO', '#cheap', '#bastards', '#stingy'], ['#poorservice'], ['#neveragain', '#flyingwithUS', '#disappointed', '#lostacustomer'], ['#YXE', '#UA6136'], ['#UA1481', '#Cancelled'], ['#3345', '#bringbackrealstaff'], ['#Japan', '#UnitedAirlines', '#customerservice', '#fun'], ['#ImproveTheProcess'], ['#Denver', '#time2switch'], ['#BadCustomerService'], ['#fail'], ['#United', '#premier1K'], ['#greed'], ['#united'], ['#UA5037', '#CMH'], ['#BadCustomerService'], ['#neveragain'], ['#winwin'], ['#makestoomuchsense', '#shouldhaveflowndelta', '#unitedsucks'], ['#united1K'], ['#fail'], ['#WashingtonDC', '#Edinburgh'], ['#unitedsucks'], ['#shouldhaveflowndelta'], ['#UnitedHatesUsAll'], ['#shouldhaveflowndelta', '#unitedsucks'], ['#customer', '#outrage'], ['#unitedagainstunited'], ['#1531'], ['#standby'], ['#epicfailunited'], ['#24h', '#12', '#hotel'], ['#ggqzqd'], ['#NewAmericanStinks'], ['#unitedairlinessucks'], ['#unitedfail'], ['#Appreciation', '#GoldenTickets'], ['#hacks', '#jokers', '#neveragain'], ['#wastedtime'], ['#getmeoffrhisFUCKINplane'], ['#United', '#MileagePlus'], ['#UnitedAirlinesSucks'], ['#12thMan'], ['#costumerservice', '#legit', '#jk'], ['#unitedlies'], ['#IAD', '#failed'], ['#UA57'], ['#ZRH', '#IAD', '#failed'], ['#Spotify'], ['#threehoursLate'], ['#traveler', '#TSA'], ['#plane', '#MakesSense', '#efficiency', '#travel', '#flying'], ['#unitedsucks'], ['#unitedsucksdick'], ['#help'], ['#customerservice'], ['#horribleservice', '#unitedsucks'], ['#firstworldproblems'], ['#UnitedAirlines'], ['#Anaphylaxis'], ['#lies'], ['#pathetic', '#needtobehonest'], ['#UnitedAirlines'], ['#whyjeff'], ['#Dreamliner', '#mental', '#breakdown'], ['#disappointed'], ['#United'], ['#BadCustomerService'], ['#UnitedAirlines'], ['#stranded'], ['#flyerfriendly'], ['#Belize'], ['#badservice'], ['#badservice'], ['#United'], ['#badservice'], ['#Delta'], ['#lostmybusiness'], ['#fakesincerity'], ['#HappyFlight'], ['#Belize'], ['#CustExp'], ['#timezones', '#accuratetraveltimes', '#3rdtimethishashappened'], ['#RipOffs', '#PriceDiscrimination'], ['#ATL', '#UnitedAirlines', '#nothappy'], ['#bullying', '#workforce', '#Delays', '#flights', '#UnitedAirlines'], ['#nothappy'], ['#1K', '#flt803', '#nonupgrade'], ['#Flight6831'], ['#UnitedAirlines'], ['#Heathrow'], ['#UnitedAirlines'], ['#ua1523'], ['#787'], ['#nola'], ['#frequentflyer'], ['#HORRIBLE'], ['#ridiculous', '#UnitedAirlines'], ['#fail', '#greedy', '#piggy'], ['#lostsuitcase', '#noreimbursement'], ['#comeonpeople'], ['#ual'], ['#ELP', '#flyerfriendly', '#united', '#emb145', '#elpaso'], ['#TeamUSA'], ['#unitedsucks'], ['#earnedmybusiness'], ['#satisfied'], ['#IAH', '#IAD'], ['#charity', '#jailbreak', '#RAG'], ['#WTF', '#crappy', '#aviation', '#NewYork'], ['#EnoughIsEnough'], ['#BringYourOwn'], ['#NYFW'], ['#FTW'], ['#youretheworst', '#neveragain'], ['#keepingit100', '#weaktea'], ['#notgoodenough', '#poorservice'], ['#poorservice', '#notgoodenough'], ['#767', '#ORD', '#avgeek'], ['#poorservice', '#notgoodenough'], ['#3367'], ['#WheresThePilot'], ['#ridiculous', '#united'], ['#mileageplus'], ['#terriblecustomerservice', '#unitedairlines'], ['#fwiw'], ['#platinummember'], ['#unitedsucks'], ['#unitedSucks'], ['#epicfail'], ['#sad'], ['#moneynotspentonunited', '#unfriendlyskies'], ['#disunited', '#unfriendlyskies', '#servicefail'], ['#amazing'], ['#KeepIt100'], ['#unfriendlyskies', '#unbelievable'], ['#Delayed', '#Again'], ['#STL', '#SouthBendINWhere'], ['#iflyalot', '#bs'], ['#Fail'], ['#letsgo'], ['#lostluggage', '#frustrated'], ['#FriendlyFriday'], ['#flyingRetro'], ['#unitedairlines'], ['#united', '#notimpressed'], ['#Cranky'], ['#384', '#3589'], ['#beingsuckontarmacsucks'], ['#whatstheholdup', '#CHItoCLE'], ['#UnitedAirlines', '#unhappytraveler'], ['#hopethegearmakesitintact'], ['#417'], ['#unhappytraveler'], ['#problemsolvers'], ['#Another', '#Airlines', '#Issues'], ['#fail'], ['#united'], ['#keepingtraditionsalive'], ['#thanksunited'], ['#Airlines'], ['#disappointed'], ['#neveragain', '#vacation'], ['#annoyed', '#EpicFail'], ['#United', '#businessFirst'], ['#disappointed'], ['#ua688', '#SF', '#Chicago', '#EpicFail'], ['#1051'], ['#Hug', '#BusHug', '#impact', '#busads', '#thinkbus'], ['#4781', '#5102newflight'], ['#heathrow'], ['#upset'], ['#ThankYou'], ['#united'], ['#PaxEx'], ['#EWR', '#YOW'], ['#frustrated'], ['#whatgives', '#dullessucks'], ['#ERJ145', '#Chicago', '#Evansville', '#avgeek'], ['#8thtime5MonthsOld'], ['#UA49'], ['#FirstClass', '#London', '#LondonFashionWeek', '#LFW15'], ['#UA1724'], ['#delayed', '#again', '#needtocatchmynextflight', '#alreadyrebookedonce'], ['#1623'], ['#flightdelay', '#fail', '#nocustomerservice', '#nocompensation'], ['#dullestostatecollege', '#runningonthreehoursofsleep', '#delayedovernight'], ['#tiredandwanttogohome'], ['#miami', '#EWR', '#SOBEWFF'], ['#stickingToDelta'], ['#inefficient'], ['#unitedairlines', '#customerservice'], ['#onlyinAmerica', '#unitedairlines', '#customerservices'], ['#unitedairlines'], ['#shameful'], ['#inexcusable'], ['#keepitclassy', '#customerservice'], ['#showsomerespect'], ['#customerservice'], ['#3hourdelay'], ['#lastflightofthenight', '#breakup'], ['#US3645', '#ORD', '#shameful'], ['#whatstatus'], ['#waitingforbags', '#united', '#EWR'], ['#tiredcustomer'], ['#JustGetMeHome'], ['#embarrassing', '#ua3728'], ['#CLE'], ['#ripoff'], ['#DELAYED', '#Delayed', '#delayed'], ['#YourAgentsHaveNoClue'], ['#IAH', '#avgeek'], ['#A320', '#avgeek'], ['#2daysofunitedfailures', '#1thingafteranother'], ['#Fail'], ['#customerservicefail'], ['#frustrated'], ['#alwaysdelayed', '#unitedfail'], ['#snowforce'], ['#travel'], ['#UnitedAirlines', '#rude', '#PoorForm'], ['#thatisall'], ['#GolfUnited'], ['#byod', '#worksnicely'], ['#CantLogOutOfUnitedWifi'], ['#youareonyourown'], ['#2015'], ['#dobetter', '#please'], ['#deaffriendly'], ['#nothanks'], ['#epicfail'], ['#keepusguessing', '#isthisyourfirsttry'], ['#custserv'], ['#mileageplus'], ['#united13'], ['#custserv'], ['#OrthoDoc'], ['#unitedfail'], ['#mileageplus'], ['#wellplayed', '#jokesonus'], ['#UNCvsDUKE'], ['#areyounew', '#incompetent', '#no800number', '#feeltheheat'], ['#priceless'], ['#furious'], ['#UnitedAirlines', '#angrycustomer', '#unitedairlinessuck'], ['#Randomactsofcorporategreed'], ['#stillwaiting'], ['#stillwaiting'], ['#idnumber8569822', '#hopetogetanswersoon'], ['#ProbablyNot'], ['#unitedfails', '#worsttripofmylife'], ['#AnotherDisappointment'], ['#badcustomerservice'], ['#UnitedAirlines'], ['#RunAround'], ['#SlapInTheFace'], ['#4372'], ['#failagain'], ['#NewYork', '#unitedVUSA'], ['#CustomerService', '#fail', '#frustrated'], ['#aviation', '#airport', '#airline', '#innovation', '#startups', '#tech'], ['#UnitedFail'], ['#amypoehler'], ['#LHRT2'], ['#BA'], ['#friendlyskies', '#careyon'], ['#worstflightever'], ['#customerservicefail'], ['#1007'], ['#UA1516'], ['#UA507'], ['#1007'], ['#vegan'], ['#stillmakingmepoorthough'], ['#idonotcare'], ['#fail'], ['#customerservice'], ['#unitedfail'], ['#notcool', '#exhorbitantfees'], ['#fail', '#customerexperience'], ['#unfriendlyskies'], ['#lowstandards'], ['#777', '#Avgeek'], ['#custserv'], ['#sunkist'], ['#stillwaiting', '#doesntfeellikestatusyet'], ['#sfo', '#ClearVision', '#TV4U'], ['#unfriendlyskies'], ['#unfriendlyskies'], ['#NYC'], ['#2daysofhell'], ['#fail'], ['#answerthis'], ['#unfriendlyskies'], ['#burningman'], ['#B737', '#NewOrleans', '#Cancun', '#avgeek'], ['#finally'], ['#winnipeg', '#fail', '#tightconnection', '#Denver'], ['#ColtsMissingBags'], ['#frightening'], ['#willing', '#letsworktogether'], ['#fail'], ['#boise'], ['#aviation', '#aircargo'], ['#unitedairlines'], ['#unitedairline'], ['#3thparty', '#ITproblems'], ['#UnitedAirlines'], ['#unitedfail', '#unitedwithivy'], ['#lies', '#falseadvertising'], ['#servicefail'], ['#noapology'], ['#wontflyagainwithyou'], ['#ritacomo'], ['#unitedairlines'], ['#UnitedAirlines'], ['#boldflavors'], ['#csfail'], ['#flyunited'], ['#greatservice'], ['#SaveTheDiagonals', '#FlyQuiet', '#ORDNoise'], ['#UnitedAirlines'], ['#quiet', '#planes', '#SaveTheDiagonals'], ['#WorstAirlineEver'], ['#UnitedAirlines', '#moneyelsewhere'], ['#tryagain'], ['#3thparty'], ['#igiveup'], ['#NoFun'], ['#ewr'], ['#connection'], ['#doublestandards'], ['#united'], ['#travelingwithsmallkids'], ['#RMOUG15'], ['#flight', '#UnitedAirlines'], ['#flight', '#UnitedAirlines'], ['#awesome'], ['#United', '#MileagePlus'], ['#rude'], ['#unitedfail'], ['#Hawaii'], ['#MileagePlus', '#airline', '#travel', '#loyalty', '#rewards'], ['#5237'], ['#cockup'], ['#swag', '#ijustwanttosleep'], ['#GetPhilz'], ['#40'], ['#RoadWarrior'], ['#EmployeeRelations'], ['#unfriendlyskies'], ['#hopeless'], ['#AmericanAir'], ['#confused'], ['#travelers', '#budget', '#save'], ['#2053', '#256746438028'], ['#notsurprising', '#LUVthem'], ['#bullshit'], ['#2771'], ['#parentsonboard'], ['#FlyPBI'], ['#AltonBrownLive', '#SOhappy'], ['#4649'], ['#throwback', '#bestflightever'], ['#9NEWSBusiness'], ['#218', '#facepalm', '#smh'], ['#22'], ['#fail'], ['#MedusaFridays', '#TheMenOfBusiness'], ['#neveragain'], ['#FAIL'], ['#baitandswitch'], ['#satisfied', '#happycustomer'], ['#RapidRewards'], ['#Lasttweetaboutthis', '#disappointed'], ['#DISAPPOINTED'], ['#vacationfail', '#frozenwater', '#gettingimpatient', '#theycouldatleastofferfreebooze'], ['#ANAmarketers'], ['#ANAmarketers'], ['#ANAMarketers'], ['#worstcustomerservice'], ['#ANAmarketers'], ['#VIPLiveintheVieyard', '#disappointed'], ['#intuitlife', '#leanin', '#southwestairlines'], ['#happycamper'], ['#SouthwestSmoothie'], ['#stepup', '#makeitright', '#wewillsee'], ['#CX'], ['#unbelievable'], ['#bagsflyfree', '#badpolicy', '#cheatcustomers'], ['#wrongiswrong'], ['#BadBussiness', '#Theft'], ['#firstworldproblems'], ['#filmjobnoequipment', '#nowarmclothes'], ['#SWA', '#LUV', '#DTW', '#MDW', '#TUS'], ['#lostbags', '#filmjobnoequipment'], ['#youdidit', '#notcool'], ['#TheBachelor', '#wah'], ['#FloridaVacation'], ['#smoothflight', '#frequentflyer'], ['#bags', '#fullprice'], ['#BETHonors'], ['#hurt', '#customerappreciation', '#gaincustomers', '#keepem2'], ['#lovedflyingwiththem', '#notanymore', '#wrong', '#badpolicy'], ['#336'], ['#crooked', '#shouldwearmasks', '#shocked'], ['#F8NEQM'], ['#Boston', '#Houston', '#LUVSWA'], ['#be'], ['#DestinationDragons'], ['#canthurtasking'], ['#nutsaboutsouthwest'], ['#mdw2mci', '#homeandreadyfornexttrip'], ['#justsayin'], ['#shittydeal', '#notimpressed'], ['#DestinationDragons'], ['#inflight', '#Wifi'], ['#unreliable'], ['#AIF2015', '#agcommunity'], ['#magazine', '#LuvSWA', '#healthbenefitsofplants', '#gardening'], ['#patience', '#luvswa'], ['#MKT', '#whathappend'], ['#DestinationDragons'], ['#destinationdragon'], ['#Vegas'], ['#givethemraises'], ['#feltthelove'], ['#netneutrality'], ['#DestinationDragons'], ['#notcool', '#flight2149'], ['#toyingwithouremotions'], ['#toughtomakeplans'], ['#gettingthirsty'], ['#85832'], ['#85832'], ['#85832'], ['#grateful', '#businesstrip'], ['#unacceptable'], ['#notsatisfied', '#smh', '#unhappy'], ['#neverflyvirginforbusiness'], ['#impressive', '#outstanding', '#greatservice', '#allgood'], ['#fail'], ['#worstflightever', '#ideserveareward'], ['#flights', '#Ohio'], ['#B737', '#Washington', '#FtLauderdale', '#avgeek'], ['#B737', '#Washington', '#FtMyers', '#avgeek'], ['#B737', '#OrangeCounty', '#Portland', '#avgeek'], ['#B737', '#Columbus', '#Oakland', '#avgeek'], ['#B737', '#Columbus', '#Boston', '#avgeek'], ['#SellMyPointsSoon'], ['#punishedforflying'], ['#Ohio'], ['#Passbook'], ['#nakedmeetings', '#awkward'], ['#1687'], ['#NotHappy'], ['#concerned', '#scam'], ['#GIS2015'], ['#DestinationDragons'], ['#DestinationDragons'], ['#fail'], ['#oscars2016'], ['#Chicago', '#Midway', '#MDW'], ['#dissaponted'], ['#notcool', '#Southwest'], ['#customerservice'], ['#oscars2015', '#DIA'], ['#companionpass'], ['#Boss'], ['#IChangedYourDiaper'], ['#redcarpet'], ['#awesome'], ['#southwest'], ['#SouthwestLuv'], ['#dontmakemebeg'], ['#RedCarpet'], ['#RedCarpet'], ['#RedCarpet'], ['#RedCarpet'], ['#HollyMais'], ['#ridiculous'], ['#gettingbetter'], ['#shouldhaveflownjetblue'], ['#strandedNYC'], ['#southwest'], ['#notmadeofmoney'], ['#hotlanta'], ['#letitgo'], ['#peanutsonaplatter'], ['#firstclass'], ['#FlySWA', '#denverairport'], ['#DestinationDragons'], ['#nolove', '#noexcuses', '#cali'], ['#nolove'], ['#nolove', '#cali'], ['#nolove', '#cali'], ['#justsaying'], ['#loyal'], ['#onechildfourbags'], ['#tfw1'], ['#Hawaii', '#Canada'], ['#tfw1'], ['#complimentarybeveragesneeded'], ['#disappointed'], ['#oversold', '#earlybirdmeansnothing'], ['#CustomerServiceFail'], ['#Vegas', '#aviation', '#business', '#marketing', '#consumermarketing'], ['#flight', '#Cancelled'], ['#BS', '#GetMeOuttaHere', '#SouthwestSucks'], ['#DestinationDragons', '#imaginedragons', '#slaycancerwithdragons'], ['#LUV', '#noluv'], ['#worstairline'], ['#668'], ['#fail', '#furious'], ['#help'], ['#MayweatherPacquiao'], ['#done'], ['#LUV'], ['#swa'], ['#Passbook'], ['#GrandCanyon', '#Arizona', '#Wow', '#Love', '#Photography'], ['#bagsflyfreebutnotwithme'], ['#epitimeoffail'], ['#raise'], ['#furious'], ['#OptOut'], ['#flyUnited'], ['#flySWA'], ['#getmeoutofhere'], ['#DestinationDragons'], ['#HELP'], ['#intlcheckin'], ['#cancun'], ['#stuckintampa'], ['#Very'], ['#southwestfail'], ['#8Q6MFD'], ['#BlackHistoryMonth', '#ATL', '#singer', '#musician', '#life', '#BlackLivesMatter'], ['#JSOM', '#UTDallas'], ['#lame'], ['#annoyed', '#flights'], ['#totalfail', '#letdown'], ['#4229'], ['#HighHopes'], ['#LAS2BUF'], ['#Books'], ['#Getyourlife'], ['#3252'], ['#DestinationDragons'], ['#flySW'], ['#Fail', '#45minflight', '#been3hours'], ['#greatservice', '#happy', '#customer'], ['#pleasehelp', '#stranded', '#whenitsnowsitpours', '#tgcyaLate'], ['#WheelsUp', '#fb'], ['#help'], ['#anhour'], ['#disappointed'], ['#ImJustSaying'], ['#HappyBirthday'], ['#IsItTheGaryKellyWay'], ['#DestinationDragons'], ['#SWA', '#THANKYOU'], ['#Southwest', '#customerservice'], ['#getmorehands'], ['#nogood'], ['#DestinationDragons'], ['#frustrated'], ['#SouthwestAir', '#4053'], ['#WinterWeather'], ['#OrangeCounty', '#Denver', '#BEST', '#luv'], ['#getmeoffthisbird'], ['#BNA'], ['#terribleservice'], ['#BNA'], ['#3ticketsforJax'], ['#customerservice'], ['#AA', '#okcdirects', '#OKC', '#MCI', '#flights', '#okcprofessionals'], ['#customerservice', '#customerloyalty'], ['#shocking'], ['#BadService'], ['#hiremorepeople'], ['#worstcustomerservice'], ['#KeepItMovin'], ['#DestinationDragons'], ['#jailbreak', '#RAG'], ['#wifi'], ['#DestinationDragons'], ['#3415'], ['#DestinationDragons'], ['#DestinationDragons'], ['#kmdw', '#b738'], ['#330'], ['#DestinationDragons'], ['#takemeback'], ['#happycustomer'], ['#scumbag'], ['#CRYING'], ['#bestinclass', '#30000ft', '#takemehome'], ['#promotion', '#flights', '#ATL', '#travel'], ['#southwestairlines'], ['#DestinationDragons'], ['#DestinationDragons'], ['#DestinationDragons'], ['#SWA'], ['#DestinationDragons', '#ripme'], ['#LiveOnFOX17', '#FebruaryFreezeFox17'], ['#DestinationDragons'], ['#DestinationDragons'], ['#DestinationDragons'], ['#DestinationDragons'], ['#DestinationDragons'], ['#military', '#StLouis'], ['#Disappointed'], ['#bna'], ['#DestinationDragons'], ['#PadresST'], ['#destinationdragons'], ['#teamspirit'], ['#southwestrocks'], ['#bestairlineever', '#neverchange'], ['#unhappycustomer', '#mytimeismoney'], ['#4569'], ['#LuvAgent', '#swa'], ['#guessweflyingdelta'], ['#Apple', '#iPhone', '#iPodTouch', '#iPad'], ['#needtogethome'], ['#CarryOnBagsSlowEverybodyDown'], ['#mightmismybrosgraduation'], ['#badservice'], ['#notahappytraveler'], ['#DestinationDragons'], ['#DestinationDragon'], ['#MoveAboutTheCountry'], ['#FrigidFriday'], ['#ThankYou'], ['#4386', '#thankyou'], ['#122'], ['#legroom'], ['#DestinationDragons'], ['#DestinationDragons'], ['#DestinationDragons'], ['#goingtovegas'], ['#destinationdragons'], ['#destinationdragons'], ['#destinationdragons'], ['#missedflight'], ['#tripofalifetime'], ['#DestinationDragons'], ['#annoyed'], ['#delayed'], ['#DestinationDragons'], ['#DestinationDragons'], ['#DestinationDragons'], ['#DestinationDragons'], ['#DestinationDragons'], ['#LAS', '#homewardbound', '#betsy', '#besty', '#thankyou'], ['#fail'], ['#bagawim'], ['#VeryLoyalCustomer'], ['#8X7XVM'], ['#BeBetter'], ['#Android', '#BudweiserDuels'], ['#badcustomerservice'], ['#southwestairlines', '#stellarservice', '#thanks'], ['#byebyeusairline'], ['#DestinationDragons'], ['#BUF', '#ROC'], ['#Chiberia'], ['#wheelsup'], ['#unscheduled', '#REFUND'], ['#badservice'], ['#Airlines', '#Travel'], ['#customerservice'], ['#DestinationDragons'], ['#DestinationDragons'], ['#DestinationDragons'], ['#SouthwestRally', '#BWI', '#bestemployees', '#swaculture'], ['#SouthwestRally', '#BWI', '#bestemployees', '#swaculture', '#swapic'], ['#fail'], ['#TheRoFo'], ['#delayed', '#SanDiego', '#SF', '#ugh'], ['#help'], ['#SJC', '#BNA', '#SFO', '#OAK'], ['#LuvInTheAir'], ['#heartlanta'], ['#IfThe80sNeverStopped'], ['#1071', '#SWA'], ['#sarcasm'], ['#LOL'], ['#DestinationDragons'], ['#DestinationDragons'], ['#prettyplease'], ['#DestinationDragons'], ['#DestinationDragons'], ['#DestinationDragons'], ['#OhioProbz'], ['#OldPoliciesWayBetter'], ['#WORSTAIRLINEEVER'], ['#DestinationDragons'], ['#southwest'], ['#OneLove', '#Southwest', '#bestairline'], ['#578'], ['#favoriteairline', '#luvforSW', '#southwestAir'], ['#Flight7'], ['#DestinationDragons'], ['#bringbacktheluvtordu', '#miami', '#directflights'], ['#Columbus', '#Oakland'], ['#iPhone', '#Passbook'], ['#badservice'], ['#badservice'], ['#DestinationDragons'], ['#custexp'], ['#RaganDisney'], ['#RaganDisney'], ['#DestinationDragons', '#ThankYou'], ['#DestinationDragons'], ['#DestinationDragons'], ['#HELP', '#passengers', '#honesty'], ['#ragandisney'], ['#RaganDisney'], ['#Columbus', '#cmh', '#oak', '#bos'], ['#DestinationDragons'], ['#DestinationDragons'], ['#DestinationDragons'], ['#DestinationDragons'], ['#DestinationDragons'], ['#boycott'], ['#DestinationDragons'], ['#DestinationDragons'], ['#lovetotravel', '#chaching'], ['#onlywaytofly'], ['#4251'], ['#horribleattitudes'], ['#DisneyPrincessHalfMarathon', '#girlsweekend', '#bffs'], ['#CustomersFirst'], ['#destinationdragons'], ['#mobileboarding'], ['#DestinationDragons'], ['#gracias'], ['#DestinationDragons'], ['#DestinationDragons'], ['#peanutsandtoons'], ['#ripskymall'], ['#BHM', '#BookofNegroes'], ['#DestinationDragons'], ['#craftbeer', '#goodflight'], ['#help'], ['#DestinationDragons'], ['#DestinationDragons'], ['#4223', '#damionflight4223'], ['#Luv'], ['#DestinationDragons'], ['#why'], ['#destinationdragons'], ['#heart', '#flying'], ['#Southwest', '#worstcustomerservice'], ['#LuvSW'], ['#4386'], ['#ftw'], ['#DestinationDragons', '#87yearsLate', '#maybeijustlost', '#whyyounoloveme'], ['#worstthingever'], ['#Passbook'], ['#3526665682'], ['#DestinationDragons'], ['#JamesAsworth', '#22'], ['#cantblametheweather'], ['#MHTforlife'], ['#SWADiversity'], ['#DestinationDragons', '#Lucky'], ['#MardiGras2015'], ['#DestinationDragons'], ['#thingsishouldknow', '#ifeeldumb'], ['#passbook'], ['#SWADiversity'], ['#PastMyPatienceExpirationDate'], ['#SWADiversity'], ['#customerserviceWIN', '#itravelalot'], ['#CompanionPasses'], ['#deltanews'], ['#DestinationDragons'], ['#3854'], ['#flysouthwest', '#lovesouthwest', '#mybday'], ['#freedrinkcoupons'], ['#notokay'], ['#BNASnow'], ['#DFW', '#DAL', '#airlines'], ['#packingayak'], ['#DevotedyYours'], ['#Delta'], ['#sportsbiz'], ['#DestinationDragons'], ['#Octavia'], ['#SMH'], ['#ModeloDeNegocio', '#innovation', '#innovacion', '#BusinessModel'], ['#Official', '#DivadaPouch', '#ThePoopQueen'], ['#sarcasm'], ['#freecomedyshow', '#newlifetimecustomer'], ['#iusedtoloveu'], ['#DestinationDragons'], ['#pumped'], ['#DestinationDragons'], ['#thankful', '#feelingtheluv'], ['#ProfitBeforePeople'], ['#southwest', '#southwestairlines'], ['#mad'], ['#Nashville'], ['#please', '#snowbama'], ['#NoThanks'], ['#poor'], ['#comeon'], ['#slow'], ['#disappointed', '#unprofessional'], ['#CostaRica', '#VacaTime'], ['#fattuesday', '#mardigras'], ['#DestinationDragons'], ['#southwestairlines', '#poor'], ['#Nashville'], ['#10'], ['#bushleague', '#weakservice'], ['#BlackHistoryMonth', '#SouthWestAirlines'], ['#3768', '#2522'], ['#nochill'], ['#SWfan'], ['#SWA', '#love'], ['#poor'], ['#MardiGras', '#NFTYConvention'], ['#SouthwestLuvSweeps'], ['#notcool'], ['#211pilot'], ['#southworst'], ['#FRAUD'], ['#disappointed'], ['#3397'], ['#dca'], ['#phonedied', '#AListpreferred'], ['#FGKXV5'], ['#loyalRRmember'], ['#LOVESOUTHWESTAIR'], ['#dontchangeathing', '#luv'], ['#customerservice'], ['#nashville'], ['#jvstatus'], ['#serenitynow'], ['#octaviannightmare'], ['#RSW'], ['#FUSTURATED'], ['#1814'], ['#frustrated'], ['#HorribleService', '#NeverAgain', '#frustrated', '#AnswerThePhone'], ['#wheelsup', '#JetBlueSoFly'], ['#evermoreroom', '#nonsense', '#Waste', '#JetBlue', '#jetbluebos', '#cheap'], ['#nobaggagefees'], ['#fleek', '#PointsMe'], ['#AA'], ['#JustDoIt', '#YouKnowYouWantTo'], ['#firstlove'], ['#flyfi', '#leatherseats', '#hipunis', '#legroom'], ['#SOBEWFF', '#TeamNKH'], ['#SOBEWFF'], ['#jetbluesofly', '#jetblue', '#airbus'], ['#jetbluehatesbtv'], ['#WeAppreciateYou', '#TrueBlue', '#jetbluefame'], ['#sosmart', '#jetblue', '#frequentflyerappreciates', '#alsoyayforsnacks'], ['#badcustomerservice'], ['#PRBound'], ['#jetblue', '#trueblue'], ['#badcustomerservice', '#jfk', '#pr'], ['#avgeek'], ['#TrueBlue'], ['#persistence'], ['#NoPlaceLikeHome', '#eventhoughits2degreesathome'], ['#Blushing'], ['#lax'], ['#1680'], ['#flight108'], ['#passengersarepeople'], ['#goodnight'], ['#616'], ['#zombie'], ['#damn'], ['#OnFleek'], ['#foh'], ['#Twitter', '#contentmarketing'], ['#Freberg15'], ['#FlyingitForward'], ['#sm'], ['#Real'], ['#fustrated'], ['#Caucasity'], ['#Nah'], ['#JetBlue', '#Mint'], ['#fleek'], ['#Cuba'], ['#ohboy', '#shouldigetoutandpush', '#airplane', '#flying'], ['#JFK', '#PITT'], ['#Nantucket', '#Aviation'], ['#thanks'], ['#E190', '#Washington', '#Nantucket', '#avgeek'], ['#weather'], ['#GoPatriots'], ['#jetblue', '#Boston', '#westpalmbeach', '#flybetter'], ['#catsanddogslivingtogether'], ['#safetyconcerns'], ['#impressive', '#FlyFi'], ['#epicfail'], ['#epicfail'], ['#jetblues'], ['#disappointed'], ['#happytohelp'], ['#611'], ['#59'], ['#nexttime', '#andthewinneris'], ['#whyabcwhy'], ['#Accessibility', '#Equality'], ['#missingtheoscars'], ['#oscars'], ['#forevercold'], ['#annoying'], ['#GetItTogether'], ['#JetBlue'], ['#JUSTWRONG'], ['#2070'], ['#BFF'], ['#JetBlue', '#Byebyejetblue'], ['#jetbluefail'], ['#jetblue'], ['#sFO', '#customerservicenot'], ['#jetbluefail'], ['#jetblue'], ['#jetblue'], ['#jetblue'], ['#jetblue'], ['#JetBlue'], ['#ishouldhavedriven'], ['#jetblue'], ['#jetblue'], ['#ChrisHasMadeUsBLUSH'], ['#bluecarpet'], ['#communicationiskey'], ['#bestairlineever'], ['#luggagegate'], ['#MintyFresh', '#brandmance', '#LOVE', '#travel', '#business'], ['#1691'], ['#fwiw', '#loweredexpectations'], ['#dog'], ['#hopeless'], ['#jetbluerocks'], ['#FlyFi'], ['#idlovetoask'], ['#JetBlue'], ['#JetBlue', '#FlyFi', '#A320'], ['#ridiculous', '#loyal'], ['#JetBlueRocks'], ['#UMosaicMeCrazy'], ['#cannedtweet', '#autoresponse'], ['#489', '#589'], ['#TrueBlueColors'], ['#updateyourwebsite', '#489'], ['#mint'], ['#communicationFAIL', '#dobetterJetBlue'], ['#LaGuardia', '#Sunshine'], ['#mosaicmecrazy', '#sunrise', '#bestairline', '#nofilterneeded', '#FlyFi'], ['#horrible'], ['#kudos'], ['#love', '#higherandhigher'], ['#BrandLoveAffair', '#soulandinspiration', '#umosaicmecrazy'], ['#stranded'], ['#badairline'], ['#yourock', '#JetBlue', '#JetBlueRocks'], ['#JFK'], ['#eternity', '#5amMisery'], ['#Boston'], ['#jetblue', '#backhome', '#noplacelikehome'], ['#Lufthansa'], ['#stuckonaplane', '#sos', '#babyfood'], ['#454'], ['#insane', '#ijustwanttobeinBoston', '#thanksDC'], ['#loyal'], ['#impressed'], ['#goodcustomerservice'], ['#Greatcustomerservice'], ['#NewOrleans', '#livethelegend'], ['#fail'], ['#toolong'], ['#sodone'], ['#lizaapproved'], ['#PGAShow', '#Mosaic'], ['#kudos'], ['#pricing', '#flying', '#jetblue', '#pricewise'], ['#awkward'], ['#jetblue'], ['#thismosaicnothappy'], ['#bestdressed', '#bluecarpet'], ['#goodgenes', '#ilookyoung'], ['#ExceptionalService'], ['#flyingitforward'], ['#nixchangefees'], ['#happiness'], ['#flyingitforward'], ['#flyingitforward'], ['#flyingitforward'], ['#travel', '#cause'], ['#fail'], ['#WereNotinCaliAnymore'], ['#226', '#happytweet'], ['#Bluemanity', '#CoreValues', '#Passion', '#AeroJobMarket', '#avgeek'], ['#Bluemanity', '#CoreValues', '#Passion', '#AeroJobMarket'], ['#mosaic', '#LifeIsGood'], ['#westpalmbeachbound'], ['#jailbreak', '#RAG'], ['#nomoreaggravation'], ['#NeverAgain', '#flywhonotblue'], ['#flt348'], ['#delayforwhat'], ['#sittingonthetarmac', '#delay'], ['#ABCLetJetBlueStreamFeed'], ['#Costa', '#Rica', '#Pura', '#Vida'], ['#SharkTank'], ['#jetblue', '#makingthingseasy', '#feelbetter'], ['#worst'], ['#savethoseseats'], ['#LGA'], ['#natural', '#beefjerky'], ['#633'], ['#howhardcanthatreallybe'], ['#nogearnotraining'], ['#negativedegrees', '#buffalo', '#snowwillnevermelt'], ['#TrueBlue'], ['#escape', '#FL', '#bliss', '#travel', '#InDenial', '#WhatFrozenPipes'], ['#dontflythem'], ['#AfterAll', '#LoveSongFriday', '#Cheesy', '#80sweresomuchfun', '#BrandLoveAffair'], ['#BedofRoses', '#mint', '#brandmance'], ['#IWouldDoAnythingForLove', '#BrandMance', '#LoveSongFriday'], ['#MiAmore', '#IAdore', '#LoveSongFriday'], ['#IDontWannaLiveWithoutYourLove', '#ItWasMintToBe', '#BestInClassSocial', '#ThankYou', '#Travel', '#Business'], ['#Flight'], ['#flightlanding', '#sunscreen', '#feelsgood'], ['#selfie', '#FLAWLESS', '#BlueHeros'], ['#JETBLUE', '#disabledtraveler'], ['#ExpoWest'], ['#EvenMoreSpace', '#EvenMoreView'], ['#nashville'], ['#wager', '#IsItSummerYet'], ['#Thankful'], ['#Pilot'], ['#thanksJetBlue'], ['#MakingLoveOutofNothingAtAll', '#brandloveaffair', '#LAX'], ['#1572'], ['#sarcasm', '#patienceiswearingthin', '#woof'], ['#itscostingmeincome'], ['#Mint', '#flight', '#LAX', '#Mintalicious', '#TrueBlueLove', '#ShelleyandMarcRock', '#travel', '#air'], ['#LostinLove', '#brandmance', '#wemosaictogether', '#Mint', '#Love'], ['#notwheelsup'], ['#flyfi'], ['#flyitforward'], ['#HoldOn', '#EverythingsGonnaBeAlright', '#brandloveaffair', '#TrueBlueLove', '#travel', '#business'], ['#3HrDelay', '#disappointed'], ['#jetblue'], ['#Disney', '#workhard', '#playsoon'], ['#1stTimeFlyer'], ['#Lufthansa'], ['#Frustrated'], ['#greatservice'], ['#countingdown'], ['#brandmance', '#UpWhereWeBelong'], ['#Flight'], ['#pilots'], ['#flyingitforward'], ['#PHX'], ['#Flight'], ['#JetBae'], ['#toolittletooLate'], ['#nothappy'], ['#heartbroken'], ['#Flight'], ['#icyflight'], ['#poorservice', '#poorcommunication', '#waitingsince', '#jetblue'], ['#jetblue', '#poorservice'], ['#669', '#fromthefrontseat', '#jetblueBlues'], ['#flyingitforward'], ['#jetblueBlues'], ['#415', '#kudos'], ['#loyalmosaicmember'], ['#gettingoffplane'], ['#tired'], ['#currentlysittingontarmac'], ['#mosiacfail'], ['#wtf'], ['#lovejetblue'], ['#Lufthansa'], ['#avgeek', '#warmweather'], ['#notbabysitters', '#whrsthecoach'], ['#dictionary'], ['#ItsCold'], ['#jetbluesofly'], ['#AllYouCanJetPass', '#Havana', '#Cuba', '#JetBlue', '#Vacation'], ['#69'], ['#69'], ['#milehighselfieclub'], ['#JetBlueBruins'], ['#JetScrew', '#AwfulCustomerService'], ['#thingsyoucantmakeup', '#switch2SBux'], ['#coffeeneeded'], ['#needcoffee'], ['#INeedCoffee'], ['#glassslipperchallenge'], ['#lovejetblue', '#onlyblue', '#jetblueforever'], ['#truebluemember4life'], ['#TSAnightmare'], ['#nothanks', '#jetblue', '#ripoff', '#flyunited'], ['#jetblue', '#fixthis', '#ripoff'], ['#isthisreal', '#nevertoldus', '#jetblue', '#NeverAgain'], ['#jetblue'], ['#Mint', '#LieFlat', '#LobsterMac', '#BloodyMary', '#JetSetter'], ['#flyunited'], ['#jetblue'], ['#telleveryone', '#jetblue', '#NeverAgain'], ['#JustifyThisSupport'], ['#lostrevenue', '#angryandsober', '#bachelorpartymishap'], ['#NotTRUE'], ['#FlySouthwest'], ['#RIPOFF', '#NoSupport'], ['#ionlyflyblue'], ['#thelodge'], ['#ithelpsabit'], ['#PrincessHalf'], ['#bestplanesever', '#bestflightever'], ['#Bluemanity'], ['#badcustomerservice'], ['#trueblue'], ['#TailfinThursday'], ['#Jetbae'], ['#Jetbae'], ['#ClosePWCS'], ['#closepwcs'], ['#19'], ['#chrome'], ['#Lufthansa'], ['#FlyItForward'], ['#jetblue', '#sofly', '#wish', '#firststari'], ['#JetBlueBOS'], ['#skytrax', '#jetblue', '#corpgreed', '#nevertakeno'], ['#jetblue'], ['#bestairline'], ['#FlyingItForward'], ['#JetBlue', '#skytrax'], ['#jetblue', '#jetbluesucks', '#jfk', '#badservice', '#fail'], ['#Apple'], ['#FlyingItForward'], ['#flyingitforward'], ['#NeverAgain'], ['#FlyItForward'], ['#cometoAustin'], ['#FlyingItForward'], ['#Lufthansa'], ['#happy4them'], ['#thefutureisweird'], ['#FlyItForward'], ['#Lufthansa'], ['#FoodAllergy'], ['#FoodAllergies'], ['#JFK', '#DaytonaBeach', '#Florida', '#February'], ['#pilots'], ['#shameful'], ['#nothappy'], ['#TrueBluePoints', '#jetbluemember'], ['#flyfi', '#UDUB'], ['#Travel'], ['#professional'], ['#wifi', '#legroom', '#SeattleBound'], ['#BonsInTheSky'], ['#flyfi'], ['#travel', '#jetblue'], ['#smitten', '#trueblue'], ['#trueblue'], ['#love', '#jetblue'], ['#LikeAGirl', '#SMM', '#Brand'], ['#jfk', '#itsthelittlethings'], ['#jetbluemess'], ['#1408'], ['#nogood'], ['#TheTakeover'], ['#letsgo'], ['#ValentinesDay', '#JetBlue', '#loveisintheair'], ['#jetblue'], ['#jetbluejfk'], ['#ControllableIrregularity'], ['#EpicFail'], ['#applepay', '#airlines'], ['#FLL', '#ChillyCVZ', '#ThankGoodness', '#family', '#friends', '#sunshine'], ['#1326'], ['#OhNo', '#BundleUp', '#Leastthebeverageswillbecold'], ['#fail'], ['#airline', '#Apple', '#Travel'], ['#fail', '#fail'], ['#safetyfirst', '#sarcasm'], ['#Apple'], ['#fail'], ['#fail'], ['#JFK', '#Orlando'], ['#lovejetblue'], ['#philly', '#BOOKS'], ['#jetblue'], ['#jetblue'], ['#freeconcert'], ['#help'], ['#Oahu'], ['#jfk'], ['#Flight', '#Travel'], ['#KeepItUp'], ['#lifeneedsfrosting'], ['#A320'], ['#FlyingItForward'], ['#bestairline'], ['#ilovejetblue'], ['#flyitforward', '#dc', '#stpatricksfoundation', '#rotary'], ['#backtodelta'], ['#thanksDave'], ['#JVMChat'], ['#rockingthetweets', '#JVMChat'], ['#JVMChat'], ['#JetBlue', '#JVMChat'], ['#JVMChat'], ['#no2jetblue'], ['#wishmyflightwaslonger', '#what'], ['#T5', '#lovejetBlue'], ['#FlyFi'], ['#LFT5'], ['#badservice'], ['#getittogether'], ['#rudeservice'], ['#FlyFi'], ['#nothappy'], ['#badwebsite'], ['#fail'], ['#crummyservice', '#whydidntiflysouthwest', '#goodluckamericanair'], ['#fail', '#refund'], ['#1lesscustomer'], ['#Charlotte', '#Frankfurt'], ['#CheapOairChat'], ['#donotflyusair'], ['#AlsoNoDrinkCartComingAround'], ['#USAIR', '#nothappy'], ['#travel', '#friendlyteam'], ['#22'], ['#fail'], ['#openskies'], ['#badcustomerservice'], ['#jetblueanyone'], ['#outofbusiness'], ['#USAirways'], ['#worst'], ['#worst'], ['#DCA'], ['#college'], ['#2063'], ['#epicfail'], ['#usairwaysfail'], ['#usairwaysfail'], ['#usairwaysfail'], ['#NoExcuses'], ['#disappointed'], ['#socialtantrum'], ['#weak'], ['#DividendRewards'], ['#SwitchingBoth'], ['#DividendMiles', '#cardholder', '#hangup', '#customerservice'], ['#neveragain'], ['#NoClothesNoInfo'], ['#FAILINGYOURCUSTOMER'], ['#usairwaysfailscustomers'], ['#NoService', '#neveragain'], ['#CLT'], ['#Chairman', '#missedupgrades'], ['#ITFITS'], ['#rude'], ['#686', '#521'], ['#Noaccountability', '#disappointing'], ['#grandcayman'], ['#badservice', '#usairways'], ['#poorservice'], ['#seriously'], ['#lostandforgotten'], ['#flydelta', '#flysouthwest', '#flyjetblue', '#theyareallbetter', '#stillnobags'], ['#notourfaultyoudontuseyourgatesright'], ['#goodgriefpeople'], ['#wedontcarebecauseyoupaidalready'], ['#TakeResponsibility'], ['#dividendsmember'], ['#415', '#sittingontheplane', '#hungry'], ['#minefits'], ['#usairwaysfail'], ['#usairways'], ['#5077'], ['#epicfail', '#usairwaysfail'], ['#ed'], ['#usairwaysfail'], ['#lost'], ['#chillpill', '#usairwaysfail'], ['#usairwaysfail'], ['#stepitup'], ['#1937'], ['#fend4urself', '#stranded', '#diverted'], ['#orf', '#dca'], ['#fast'], ['#unacceptable'], ['#kudos', '#CustomerService'], ['#freeflight'], ['#usairwaysfail'], ['#badcustomerservice', '#fend4yourself', '#youareonyourown'], ['#usairwaysfail'], ['#usairwaysfail'], ['#lazy'], ['#wtf'], ['#wannagohome'], ['#pissed'], ['#firstclass'], ['#NotHappy'], ['#usairways'], ['#alwayshappensthere', '#angrytraveler'], ['#terrible'], ['#TheWorstAirline'], ['#ridiculous'], ['#PHL'], ['#eventprof'], ['#Miami'], ['#PHL'], ['#703', '#usairwaysfail'], ['#notafanofyourmerger'], ['#wewanttoknow'], ['#fail'], ['#justwantmybed'], ['#onholdwith'], ['#onholdwith'], ['#onholdwith'], ['#inept', '#uncaring', '#piss'], ['#Oscars', '#WhatCustomerService'], ['#firstclass'], ['#Flight5182', '#usairways'], ['#8hrs'], ['#GoingForGreatnessFAIL'], ['#4047'], ['#efficencies'], ['#ELMIRA'], ['#703'], ['#clt', '#ord'], ['#fail'], ['#FunFlightAttendants', '#flt635', '#LAX', '#PHX', '#SundayFunday'], ['#soLate'], ['#incompetent'], ['#dumb'], ['#goDelta'], ['#lies', '#brokenpromises'], ['#pisspoor'], ['#phl'], ['#stuck', '#nofood', '#nodrinks', '#nohelp'], ['#759'], ['#ALWAYSLate'], ['#failover'], ['#555PHLtoSLC'], ['#UnansweredQuestions'], ['#837'], ['#1715'], ['#dca', '#customerservice'], ['#badcustomerservice'], ['#unhappy', '#DCA'], ['#angryairtravel', '#winterstorm'], ['#dca', '#winterstorm'], ['#thanks'], ['#help'], ['#drunkpilots'], ['#stuckintheloop'], ['#flight2031'], ['#us2146', '#aa2924'], ['#hotterandlongerthanhell'], ['#shameonyou'], ['#usairways'], ['#799'], ['#475'], ['#usairwaysfail'], ['#travel'], ['#usairways'], ['#695'], ['#excellentcustomerservice'], ['#waitinginphilly', '#flight838'], ['#letsgoalready'], ['#irritated'], ['#whyisusairALWAYSDELAYED'], ['#neveragain'], ['#AmericanAirlines', '#merger'], ['#badcustomerservice'], ['#travel', '#vacation', '#awful'], ['#nocommunication', '#nocrew'], ['#usairways', '#BS'], ['#FAIL'], ['#FireVan'], ['#CLT'], ['#Philadelphia'], ['#takingthistothetop'], ['#FAIL'], ['#2hrs35minOnHold'], ['#Careless'], ['#usairwaysfail'], ['#4435'], ['#sorude'], ['#customerservice', '#brutal'], ['#unhappy'], ['#greatjob'], ['#flydelta'], ['#nothappy'], ['#smugsmirk', '#norush'], ['#newamericanairline', '#cheapslogannotmotto'], ['#usairwaysfail'], ['#4487'], ['#GoingForGreatnessFAIL'], ['#GoingForGreatnessFAIL'], ['#excellent'], ['#shameful'], ['#usairsucks'], ['#disgrace'], ['#massivefail', '#failphone', '#fail'], ['#3739'], ['#4663', '#usairwaysfail', '#worstairlineever'], ['#Overbooked', '#missedconnection', '#forcedovernight', '#CLT'], ['#worstflightexperienceever', '#getmehome'], ['#poorlyhandled', '#usairheads'], ['#usairwaysfail'], ['#anotherfail'], ['#smoothtransition'], ['#incompetent'], ['#disappointed', '#stillbagless'], ['#worst', '#NoExcusesAccepted'], ['#flt'], ['#usuck'], ['#imtired', '#wannagohome'], ['#saveface', '#showup'], ['#Pleasehurryup', '#answerphone', '#reschedulemyflight'], ['#seriously'], ['#FIOUSAirways'], ['#generic'], ['#idontwanttocallback'], ['#neveragain'], ['#Wronganswer', '#fail'], ['#BWI'], ['#WorstAirlineInAmerica'], ['#WorstAirline'], ['#558'], ['#SnowStorm'], ['#fail'], ['#terriblecommunication'], ['#Vegas', '#Philly', '#Sexy'], ['#not'], ['#unacceptable'], ['#FlyDelta'], ['#vegetarianproblems'], ['#cabinfever'], ['#717', '#1776'], ['#5hourwait', '#nocrew'], ['#PHL'], ['#disappointed'], ['#ShoutOut', '#RockStar', '#PromoteThatGirl'], ['#flightCancelled', '#custservicehasnonumber'], ['#horriblecustomerservice'], ['#genious'], ['#curvygirltravels'], ['#customerservice'], ['#offensive'], ['#customerservice'], ['#ThankJesus', '#ThankMe'], ['#DoBetter'], ['#USAirSucks'], ['#Fail'], ['#DoBetter'], ['#noshadetothedmv'], ['#DoBetter'], ['#Unbelievable'], ['#usairwaysfail'], ['#customerservice'], ['#badcustomersrvice', '#whereismybag'], ['#SOS', '#POORCUSTUMERSERVICE'], ['#SOS'], ['#disgusting', '#ew'], ['#usairwaysfail'], ['#usairwaysfail'], ['#Flight850', '#CLT', '#BNA'], ['#667'], ['#FrequentFlyers'], ['#shameful'], ['#Failing'], ['#clt'], ['#DoBetter'], ['#rude'], ['#poorcustomerservice', '#usairwaysfflyer'], ['#terribleservice', '#wheresmyrefund'], ['#worstairline'], ['#getmeoffthisplane', '#ineedabeer'], ['#FAA'], ['#greatcustomerservice'], ['#dontflyusairways'], ['#shitshow'], ['#jobfail'], ['#joke', '#fail'], ['#fail'], ['#fail'], ['#airbus321seat14Fproblems'], ['#clockwork', '#scareways', '#neverfails'], ['#usairwaysfail'], ['#Pathetic'], ['#BadCustomerService', '#Airlines', '#DividendRewards'], ['#wasteoftime'], ['#lawyerup'], ['#TheMagicalStranger'], ['#disappointed'], ['#30timesenough'], ['#ridiculous', '#theworstairlineever'], ['#wasteoftime', '#theworst'], ['#USAIRsucks'], ['#DenverAirport', '#GreatService', '#professionalism'], ['#3797'], ['#Creditcardsales'], ['#usairwaysfail'], ['#dontmakemegooutside'], ['#mad'], ['#noworstairline'], ['#USAirways', '#worstever'], ['#daddyshome'], ['#brokenpromises', '#notnice', '#neveragain', '#tellyourstory'], ['#reachingnewlows'], ['#waitingagain'], ['#unacceptable', '#unhappy'], ['#worstairlineever', '#yourairlinesucks'], ['#travelfail'], ['#patiencerunningout'], ['#getittogether', '#findurgrip'], ['#pissed'], ['#yousuck'], ['#planebroken', '#neverontime', '#brutal', '#paymytab'], ['#fail'], ['#usairwaysfail'], ['#2066'], ['#ghettofab', '#USAirways'], ['#customerservicefail'], ['#false'], ['#676'], ['#poor'], ['#poor'], ['#usairwaysfail'], ['#worstcustomerservice'], ['#stillnotonmyflight'], ['#NotImpressed'], ['#youcandobetter'], ['#badservice', '#mergerdisaster'], ['#losing'], ['#reFlight', '#Cancelled', '#HappyFriday'], ['#outstanding', '#service', '#support'], ['#gsp'], ['#Grossedout'], ['#usairwaysfail'], ['#1786'], ['#oldseatnocushion', '#worstflight', '#nohelponboard'], ['#428', '#frozentoilet', '#medicalissue', '#mechanicalissue', '#dispatchissue', '#LetsGo'], ['#finalstretch', '#chairman', '#execplat', '#mileagerun', '#letsgo'], ['#USAirways'], ['#sad'], ['#FAA'], ['#horriblecustomerservice'], ['#shameonyou', '#usairwayssucks'], ['#FlyDelta'], ['#disappointed'], ['#ffstatusdontmatter', '#thenewaa'], ['#frustrated'], ['#PHLtoLAS'], ['#USAirways', '#Cancelled', '#Missed', '#Promised'], ['#USAirways', '#baggagelost', '#usairways'], ['#zfv', '#yyz', '#usairways', '#baggagelost'], ['#500'], ['#getittogether'], ['#ihatemergers'], ['#Monterey'], ['#wewantcomps'], ['#JAX', '#strandedattheairport'], ['#usairways', '#mergers'], ['#badservice'], ['#BadService'], ['#flight1797'], ['#success'], ['#badcustomerexperience'], ['#tbt'], ['#tired'], ['#CLT'], ['#unreal'], ['#FlyUS', '#Ripoff'], ['#883'], ['#561'], ['#connection'], ['#1870'], ['#5015'], ['#GTH239'], ['#nothappy'], ['#ripoff'], ['#help'], ['#NotEvenJV'], ['#USAirways'], ['#help', '#resend'], ['#fail'], ['#ApplePay'], ['#shoutout'], ['#flight4592'], ['#yay'], ['#SmoothOperation'], ['#wth'], ['#nofun', '#nocustomerservice', '#onhold', '#reservations', '#nothappy'], ['#evenLate'], ['#ThereIsAFirstForEverything'], ['#Done'], ['#evenLate'], ['#WellDone'], ['#shoutout'], ['#PIT'], ['#USAirways', '#TSAPreCheck'], ['#notcool'], ['#ThankYouForEverything'], ['#sucks'], ['#pathetic'], ['#USAirways'], ['#vrm'], ['#disgusting', '#vile'], ['#sucks'], ['#US2218'], ['#usairwayssucks'], ['#blizzard'], ['#strandedinnashville'], ['#theworst'], ['#FRUSTRATED', '#LivePersonPlease'], ['#FLT1999'], ['#usairwayssucks'], ['#usairwayssucks'], ['#NeverAgain'], ['#usairwaysssuck'], ['#usairsucks'], ['#usairwayssucks'], ['#lucycat'], ['#usairwayssuck'], ['#options'], ['#fendforyourself'], ['#Starving'], ['#chairmanlove'], ['#611'], ['#logic'], ['#whatajoke'], ['#notimpressed'], ['#USAirways'], ['#USAirways'], ['#failure'], ['#badservice'], ['#makeovertime', '#customerserviceplease'], ['#ridiculous', '#donthavehighhopes'], ['#Antitrust'], ['#2daysLate'], ['#frustrated', '#USAirways'], ['#usairways', '#unacceptable', '#holdtime'], ['#peeved'], ['#MCO'], ['#Mumbai', '#Surat', '#NaviMumbai'], ['#passengersLose'], ['#gooutofbusiness'], ['#USAirways'], ['#worsttraveldayever'], ['#fail'], ['#overwhelming'], ['#NeverflyUSairways'], ['#getittogether'], ['#thislinehasntmovedforanhour'], ['#furious'], ['#fail'], ['#NeverAgain', '#spreadtheword'], ['#NeverAgain'], ['#customerservice'], ['#ExecutivePlatinumMeansNothing', '#IWantCoffee'], ['#longday'], ['#waivethefee', '#poorcustomerservice', '#Neptune'], ['#imateacher', '#neptune', '#waivethefee', '#notmyfault'], ['#Cancelled'], ['#schedule'], ['#crap'], ['#WheresTheCustomerServiceAt'], ['#USAirways'], ['#Brutal', '#DialUp', '#TheEnd', '#GoodDay'], ['#theworst'], ['#neptune', '#notmyfault'], ['#neptune', '#waivethefee'], ['#shameful', '#USAirways'], ['#Neptune', '#notmyfault', '#waive', '#ripoff', '#poorcustomerservice'], ['#usairways', '#ripoff', '#poorcustomerservice'], ['#654', '#terrible'], ['#neveragain'], ['#yousuck'], ['#winkwink'], ['#ORD'], ['#jetblue', '#usairwayssucks'], ['#usairwayssucks'], ['#nobackup'], ['#thanks'], ['#planestrainsandautomobiles'], ['#3729'], ['#403'], ['#1761'], ['#crew'], ['#3900'], ['#Optimistic'], ['#Furious'], ['#mad'], ['#OneHourOnHold'], ['#senseless'], ['#unreal'], ['#2955'], ['#nocareforcustomers'], ['#filthyplane', '#hopeidonotgetsick'], ['#AvGeek'], ['#slapintheface'], ['#nexttimeiwillflysouthwest'], ['#delay', '#AmericanAirlines', '#AA2444', '#ohio', '#dallas'], ['#called'], ['#americanairlinesfail', '#iwantmymoneyback'], ['#stuckinmemphis', '#texasisclosed'], ['#thenewamerican'], ['#Rams'], ['#22'], ['#Argentina'], ['#badservice'], ['#LAX', '#DFW'], ['#gogo', '#dietcoke', '#happyflier'], ['#fail'], ['#MD80'], ['#ExecPlat', '#thenewamerican'], ['#WinterWeather'], ['#usairways'], ['#senseless'], ['#unreal'], ['#2955'], ['#nocareforcustomers'], ['#filthyplane', '#hopeidonotgetsick'], ['#AvGeek'], ['#slapintheface'], ['#nexttimeiwillflysouthwest'], ['#delay', '#AmericanAirlines', '#AA2444', '#ohio', '#dallas'], ['#called'], ['#americanairlinesfail', '#iwantmymoneyback'], ['#stuckinmemphis', '#texasisclosed'], ['#thenewamerican'], ['#Rams'], ['#22'], ['#Argentina'], ['#badservice'], ['#LAX', '#DFW'], ['#gogo', '#dietcoke', '#happyflier'], ['#fail'], ['#MD80'], ['#ExecPlat', '#thenewamerican'], ['#WinterWeather'], ['#MEX', '#AA2444'], ['#AA2444'], ['#winter'], ['#winter'], ['#WinterWeather', '#Brrr'], ['#ATL'], ['#TT'], ['#3322', '#steps', '#planB', '#waiting'], ['#disappointed', '#upgrademe', '#wtf'], ['#AmericanAirlines'], ['#americandairlinesSUCKS'], ['#useless', '#wastedeffort', '#FAIL'], ['#donedeal', '#talktoahuman'], ['#cycle'], ['#yucki'], ['#AA4285'], ['#RefundProcedureNotTooPainful'], ['#veryimportantproject'], ['#worstflight'], ['#NotHappy', '#NeedCoffee'], ['#NoXTraLegRoom', '#NoCoatCloset'], ['#MD80', '#faail', '#mci'], ['#frustrated'], ['#Boo'], ['#terrible'], ['#NoFunAtAll'], ['#deice'], ['#maintenance'], ['#avgeek'], ['#nonewplanes', '#old', '#shame'], ['#miserablemorning'], ['#tcf', '#useless', '#amateur'], ['#nothappy'], ['#AttitudeIssues'], ['#angrycustomer'], ['#neveragain'], ['#dayjustgotWORSE'], ['#worstcustomerserviceever'], ['#worstcustomerserviceever'], ['#notahappycustomer', '#leavingtomm'], ['#goodcustomerservice'], ['#worstcustomerserviceever'], ['#letdown', '#neveragain'], ['#Noise', '#Late', '#NoRahm'], ['#DFW'], ['#customerservice'], ['#filmcrew', '#media'], ['#2298'], ['#media', '#filmcrew', '#nytimes'], ['#fail'], ['#flightnightmare'], ['#customerservice', '#fail'], ['#media', '#filmcrew', '#photography', '#cameragear'], ['#sna2ord', '#1644'], ['#Late', '#delays', '#typical'], ['#media', '#filmcrew'], ['#outoftouchwithreality', '#people'], ['#neveragain', '#aafail'], ['#help'], ['#nothappy'], ['#pregnantwithtwins', '#stranded', '#angry'], ['#love'], ['#customerservice'], ['#BQONPA', '#1641', '#2214'], ['#WorstCustomerService'], ['#DoNotFlyWithThem'], ['#customerexperience'], ['#shafted'], ['#disappointed'], ['#CustServ'], ['#AmericanAirlines', '#unamericanairlines'], ['#Southwestairwasthere'], ['#logistics', '#AmericanView'], ['#customerservice', '#DCA'], ['#SMH'], ['#media', '#filmcrew', '#cnn', '#nbc'], ['#badcustomerservice'], ['#badcustomerservice'], ['#epicfail', '#Chicago'], ['#hitawall'], ['#Newplanesmell'], ['#tcf', '#oldplanes', '#damageluggage'], ['#media', '#filmcrew', '#nbc', '#cnn'], ['#frustrated'], ['#Complaint', '#TravelProblems'], ['#NewAmerican'], ['#AA291'], ['#AmericanAirlines'], ['#AATeam'], ['#Brownsville'], ['#hardtodo'], ['#Americant'], ['#aaadvantage', '#loyal'], ['#NeverAgain'], ['#fail'], ['#customerservice'], ['#customerservice'], ['#customers'], ['#ridiculous'], ['#Atlantic'], ['#sorrynotsorry'], ['#doyourjob'], ['#GoingForGreat'], ['#onhold'], ['#WakingInMemphis'], ['#neverflyAAagain'], ['#AA', '#woase2015', '#winterops'], ['#americanairlines', '#americanair'], ['#AmericanView'], ['#thanksamericanairlines'], ['#BDSM'], ['#last', '#flight', '#ever', '#AA'], ['#help'], ['#unacceptable'], ['#outraged'], ['#AmericanAirlines'], ['#fakeawards', '#LUVisbetter'], ['#noloveforsurfers', '#pretend'], ['#GoingForGreat'], ['#thankU'], ['#nomoAA'], ['#nohotel'], ['#DallasAirport'], ['#Explain', '#whyfly'], ['#2hourwaitsucks'], ['#AmericanAirlines'], ['#allrepresentativesbusy', '#nooption'], ['#bademployeeproblem'], ['#safetyfirst'], ['#americanair'], ['#FRUSTRATED'], ['#flight353'], ['#upset'], ['#oaaret'], ['#oaaret'], ['#frustrated', '#answerthephone'], ['#custserv'], ['#crazybitch'], ['#2224'], ['#help'], ['#rude'], ['#badcustomerservice'], ['#technology'], ['#horriblecustomerservice'], ['#customerservice'], ['#Delta'], ['#1605'], ['#worst'], ['#Cancelled', '#angry', '#problems', '#ruined'], ['#AmericanAirlines'], ['#GetYourActTogether'], ['#AmericanAirlines'], ['#painandsuffering'], ['#unhappycustomer'], ['#AmericanAirlines'], ['#AmericanAirlines'], ['#help'], ['#firstclass'], ['#surf', '#fail', '#BaggageDrama'], ['#AA65'], ['#worstcustservice', '#ridiculous'], ['#AA65', '#Heathrow'], ['#epicfailure'], ['#BlameShiftOverload'], ['#rulesshouldbend'], ['#sloooowresponses'], ['#upset'], ['#chicago', '#flying', '#flight', '#travel'], ['#yousuck', '#horrible', '#Oscars2015'], ['#1080'], ['#TokyoMarathon2015'], ['#onholdfordays'], ['#YoureDoingItWrong'], ['#2390', '#AmericanAirlines'], ['#2962', '#IMPORTANTFLIGHT'], ['#fail'], ['#Stranded'], ['#pathetic'], ['#scareair'], ['#wtf', '#stranded'], ['#oscars2016'], ['#aafail'], ['#AA1457'], ['#DFW'], ['#lostluggage', '#unprofessional', '#pit', '#mia'], ['#fail', '#pathetic'], ['#ServiceFail', '#OnHoldForever', '#Suboptimal'], ['#customers'], ['#DFW', '#Mia'], ['#luggage'], ['#mia'], ['#vacation'], ['#WillNeverFlyWithYou'], ['#2386'], ['#Miami', '#NewYork', '#LGA'], ['#firstclass'], ['#FlyDelta'], ['#ANGRY'], ['#service'], ['#customerservice'], ['#unacceptable', '#AmericanAirlines'], ['#WhyAreYouYelling'], ['#flights'], ['#americanairlines', '#nocustomerservice', '#fail'], ['#Cancelled', '#nocustomerservice', '#americanairlines', '#FAIL'], ['#gratitude'], ['#AmericanView'], ['#goodthingscome', '#thanks'], ['#whereisthelove', '#whybeAAFF'], ['#unhappycustomer'], ['#DFW'], ['#americanairsucks', '#hiremorepoeple'], ['#DFW'], ['#DFW'], ['#americanview', '#usairways'], ['#shouldhavedriven'], ['#shafted'], ['#yourphonesystemsucks'], ['#blessed'], ['#AmericanView'], ['#1058'], ['#nosecuritylines'], ['#lostluggage'], ['#AAALWAYSLate'], ['#LookforwardtoflywithAA'], ['#AmericanAirlines'], ['#390'], ['#AmericanAirlines'], ['#justsaying'], ['#Flight293'], ['#Flight293'], ['#poorservice'], ['#Navy'], ['#Cancelled'], ['#HELP'], ['#SMH'], ['#Air'], ['#totallyconfused'], ['#Miami', '#Rio', '#yourstoryhere'], ['#flight293'], ['#AA'], ['#FingersCrossed', '#pleasegod', '#missmykids'], ['#293'], ['#yuck'], ['#WeeklyCommuteOnAA'], ['#flight919', '#saveus'], ['#PatheticCX'], ['#aa106', '#shortstaffed'], ['#reclameaqui', '#TripAdvisor'], ['#Yousuck'], ['#badbusiness'], ['#poorservice', '#travel'], ['#dot', '#passengerbillofrights'], ['#CNN', '#ABCNews', '#MSNBC', '#Photography'], ['#ABQ'], ['#help'], ['#nothelpful'], ['#badmgmt', '#AmericanAirlines'], ['#badmgmt', '#AmericanAirlines'], ['#badmgmt', '#AmericanAirlines'], ['#annoyed'], ['#tears'], ['#safetyfirst'], ['#1702'], ['#nevergettinghome'], ['#YeseniaHernandez'], ['#FixYourStuff'], ['#theydontanswer'], ['#exp'], ['#not', '#hateful'], ['#gobankrupt'], ['#customerservicefail'], ['#NewYork', '#919', '#viracopos', '#AmericanAirlines'], ['#wtf'], ['#fuckoff'], ['#UA4753'], ['#americanforlife'], ['#13'], ['#bummed'], ['#2251'], ['#AADelay', '#AA919'], ['#AmazingFlightCrew'], ['#neveragain'], ['#complaint'], ['#AmericanAirlines'], ['#aa2227', '#miatoiah'], ['#frustrated', '#aa'], ['#badcustomerservice'], ['#AmericanAirlines'], ['#helpAA'], ['#10'], ['#AA953'], ['#attackingbabymomma', '#crazinessintherockies'], ['#340'], ['#usairways'], ['#twitterhug', '#shesaidrun'], ['#epicfail', '#poorplanning'], ['#aa'], ['#AmericanAirlines'], ['#pleasehelp'], ['#Backwards'], ['#NoCharge', '#Ever'], ['#thankyou', '#JFK'], ['#BlackBerry10']]\n"
     ]
    }
   ],
   "source": [
    "df_tweets = build_dateframe('C:/Users/Swara/UCD Assessment/Tweets.csv')\n",
    "hash_tags = []\n",
    "regex = r\"#\\b\\w\\w+\\b\"\n",
    "for i in df_tweets['text']:\n",
    "    word = re.findall(regex, i)\n",
    "    if len(word) > 0:\n",
    "        hash_tags.append(word)\n",
    "print(hash_tags)"
   ]
  },
  {
   "cell_type": "code",
   "execution_count": 41,
   "id": "1208b6f1",
   "metadata": {},
   "outputs": [
    {
     "data": {
      "text/html": [
       "<div>\n",
       "<style scoped>\n",
       "    .dataframe tbody tr th:only-of-type {\n",
       "        vertical-align: middle;\n",
       "    }\n",
       "\n",
       "    .dataframe tbody tr th {\n",
       "        vertical-align: top;\n",
       "    }\n",
       "\n",
       "    .dataframe thead th {\n",
       "        text-align: right;\n",
       "    }\n",
       "</style>\n",
       "<table border=\"1\" class=\"dataframe\">\n",
       "  <thead>\n",
       "    <tr style=\"text-align: right;\">\n",
       "      <th></th>\n",
       "      <th>tweet_id</th>\n",
       "      <th>airline_sentiment</th>\n",
       "      <th>airline_sentiment_confidence</th>\n",
       "      <th>negativereason</th>\n",
       "      <th>negativereason_confidence</th>\n",
       "      <th>...</th>\n",
       "      <th>text</th>\n",
       "      <th>tweet_coord</th>\n",
       "      <th>tweet_created</th>\n",
       "      <th>tweet_location</th>\n",
       "      <th>user_timezone</th>\n",
       "    </tr>\n",
       "  </thead>\n",
       "  <tbody>\n",
       "    <tr>\n",
       "      <th>0</th>\n",
       "      <td>570306133677760513</td>\n",
       "      <td>neutral</td>\n",
       "      <td>1.0000</td>\n",
       "      <td>NaN</td>\n",
       "      <td>NaN</td>\n",
       "      <td>...</td>\n",
       "      <td>@VirginAmerica What @dhepburn said.</td>\n",
       "      <td>NaN</td>\n",
       "      <td>2015-02-24 11:35:52 -0800</td>\n",
       "      <td>NaN</td>\n",
       "      <td>Eastern Time (US &amp; Canada)</td>\n",
       "    </tr>\n",
       "    <tr>\n",
       "      <th>1</th>\n",
       "      <td>570301130888122368</td>\n",
       "      <td>positive</td>\n",
       "      <td>0.3486</td>\n",
       "      <td>NaN</td>\n",
       "      <td>0.0000</td>\n",
       "      <td>...</td>\n",
       "      <td>@VirginAmerica plus you've added commercials t...</td>\n",
       "      <td>NaN</td>\n",
       "      <td>2015-02-24 11:15:59 -0800</td>\n",
       "      <td>NaN</td>\n",
       "      <td>Pacific Time (US &amp; Canada)</td>\n",
       "    </tr>\n",
       "    <tr>\n",
       "      <th>2</th>\n",
       "      <td>570301083672813571</td>\n",
       "      <td>neutral</td>\n",
       "      <td>0.6837</td>\n",
       "      <td>NaN</td>\n",
       "      <td>NaN</td>\n",
       "      <td>...</td>\n",
       "      <td>@VirginAmerica I didn't today... Must mean I n...</td>\n",
       "      <td>NaN</td>\n",
       "      <td>2015-02-24 11:15:48 -0800</td>\n",
       "      <td>Lets Play</td>\n",
       "      <td>Central Time (US &amp; Canada)</td>\n",
       "    </tr>\n",
       "    <tr>\n",
       "      <th>3</th>\n",
       "      <td>570301031407624196</td>\n",
       "      <td>negative</td>\n",
       "      <td>1.0000</td>\n",
       "      <td>Bad Flight</td>\n",
       "      <td>0.7033</td>\n",
       "      <td>...</td>\n",
       "      <td>@VirginAmerica it's really aggressive to blast...</td>\n",
       "      <td>NaN</td>\n",
       "      <td>2015-02-24 11:15:36 -0800</td>\n",
       "      <td>NaN</td>\n",
       "      <td>Pacific Time (US &amp; Canada)</td>\n",
       "    </tr>\n",
       "    <tr>\n",
       "      <th>4</th>\n",
       "      <td>570300817074462722</td>\n",
       "      <td>negative</td>\n",
       "      <td>1.0000</td>\n",
       "      <td>Can't Tell</td>\n",
       "      <td>1.0000</td>\n",
       "      <td>...</td>\n",
       "      <td>@VirginAmerica and it's a really big bad thing...</td>\n",
       "      <td>NaN</td>\n",
       "      <td>2015-02-24 11:14:45 -0800</td>\n",
       "      <td>NaN</td>\n",
       "      <td>Pacific Time (US &amp; Canada)</td>\n",
       "    </tr>\n",
       "  </tbody>\n",
       "</table>\n",
       "<p>5 rows × 15 columns</p>\n",
       "</div>"
      ],
      "text/plain": [
       "             tweet_id airline_sentiment  airline_sentiment_confidence  \\\n",
       "0  570306133677760513           neutral                        1.0000   \n",
       "1  570301130888122368          positive                        0.3486   \n",
       "2  570301083672813571           neutral                        0.6837   \n",
       "3  570301031407624196          negative                        1.0000   \n",
       "4  570300817074462722          negative                        1.0000   \n",
       "\n",
       "  negativereason  negativereason_confidence  ...  \\\n",
       "0            NaN                        NaN  ...   \n",
       "1            NaN                     0.0000  ...   \n",
       "2            NaN                        NaN  ...   \n",
       "3     Bad Flight                     0.7033  ...   \n",
       "4     Can't Tell                     1.0000  ...   \n",
       "\n",
       "                                                text tweet_coord  \\\n",
       "0                @VirginAmerica What @dhepburn said.         NaN   \n",
       "1  @VirginAmerica plus you've added commercials t...         NaN   \n",
       "2  @VirginAmerica I didn't today... Must mean I n...         NaN   \n",
       "3  @VirginAmerica it's really aggressive to blast...         NaN   \n",
       "4  @VirginAmerica and it's a really big bad thing...         NaN   \n",
       "\n",
       "               tweet_created tweet_location               user_timezone  \n",
       "0  2015-02-24 11:35:52 -0800            NaN  Eastern Time (US & Canada)  \n",
       "1  2015-02-24 11:15:59 -0800            NaN  Pacific Time (US & Canada)  \n",
       "2  2015-02-24 11:15:48 -0800      Lets Play  Central Time (US & Canada)  \n",
       "3  2015-02-24 11:15:36 -0800            NaN  Pacific Time (US & Canada)  \n",
       "4  2015-02-24 11:14:45 -0800            NaN  Pacific Time (US & Canada)  \n",
       "\n",
       "[5 rows x 15 columns]"
      ]
     },
     "execution_count": 41,
     "metadata": {},
     "output_type": "execute_result"
    }
   ],
   "source": [
    "# Code to demonstrate regular expression in python, Extracting all hash tags from Tweets\n",
    "Tweet= pandas.read_csv(\"C:/Users/Swara/UCD Assessment/Tweets.csv\")\n",
    "Tweet.head()\n"
   ]
  },
  {
   "cell_type": "code",
   "execution_count": 42,
   "id": "6186dfb2",
   "metadata": {},
   "outputs": [
    {
     "data": {
      "text/plain": [
       "tweet_id                        0.000000\n",
       "airline_sentiment               0.000000\n",
       "airline_sentiment_confidence    0.000000\n",
       "negativereason                  0.373087\n",
       "negativereason_confidence       0.281284\n",
       "                                  ...   \n",
       "text                            0.000000\n",
       "tweet_coord                     0.930396\n",
       "tweet_created                   0.000000\n",
       "tweet_location                  0.323292\n",
       "user_timezone                   0.329235\n",
       "Length: 15, dtype: float64"
      ]
     },
     "execution_count": 42,
     "metadata": {},
     "output_type": "execute_result"
    }
   ],
   "source": [
    "(len(Tweet)-Tweet.count())/len(Tweet)"
   ]
  },
  {
   "cell_type": "code",
   "execution_count": 43,
   "id": "88eeb947",
   "metadata": {},
   "outputs": [],
   "source": [
    "del Tweet['tweet_coord']\n",
    "del Tweet['airline_sentiment_gold']\n",
    "del Tweet['negativereason_gold']"
   ]
  },
  {
   "cell_type": "code",
   "execution_count": 44,
   "id": "2525fdd8",
   "metadata": {},
   "outputs": [],
   "source": [
    "Mood_count=Tweet['airline_sentiment'].value_counts()"
   ]
  },
  {
   "cell_type": "code",
   "execution_count": 45,
   "id": "911aa64e",
   "metadata": {},
   "outputs": [
    {
     "data": {
      "text/plain": [
       "Text(0.5, 1.0, 'Count of Moods')"
      ]
     },
     "execution_count": 45,
     "metadata": {},
     "output_type": "execute_result"
    },
    {
     "data": {
      "image/png": "[encoded data removed]",
      "text/plain": [
       "<Figure size 432x288 with 1 Axes>"
      ]
     },
     "metadata": {
      "needs_background": "light"
     },
     "output_type": "display_data"
    }
   ],
   "source": [
    "Index = [1,2,3]\n",
    "plt.bar(Index,Mood_count)\n",
    "plt.xticks(Index,['negative','neutral','positive'],rotation=45)\n",
    "plt.ylabel('Mood Count')\n",
    "plt.xlabel('Mood')\n",
    "plt.title('Count of Moods')"
   ]
  },
  {
   "cell_type": "code",
   "execution_count": 46,
   "id": "4853b8b4",
   "metadata": {},
   "outputs": [
    {
     "data": {
      "text/html": [
       "<div>\n",
       "<style scoped>\n",
       "    .dataframe tbody tr th:only-of-type {\n",
       "        vertical-align: middle;\n",
       "    }\n",
       "\n",
       "    .dataframe tbody tr th {\n",
       "        vertical-align: top;\n",
       "    }\n",
       "\n",
       "    .dataframe thead th {\n",
       "        text-align: right;\n",
       "    }\n",
       "</style>\n",
       "<table border=\"1\" class=\"dataframe\">\n",
       "  <thead>\n",
       "    <tr style=\"text-align: right;\">\n",
       "      <th></th>\n",
       "      <th>age</th>\n",
       "      <th>sex</th>\n",
       "      <th>cp</th>\n",
       "      <th>trestbps</th>\n",
       "      <th>chol</th>\n",
       "      <th>...</th>\n",
       "      <th>oldpeak</th>\n",
       "      <th>slope</th>\n",
       "      <th>ca</th>\n",
       "      <th>thal</th>\n",
       "      <th>target</th>\n",
       "    </tr>\n",
       "  </thead>\n",
       "  <tbody>\n",
       "    <tr>\n",
       "      <th>0</th>\n",
       "      <td>63</td>\n",
       "      <td>1</td>\n",
       "      <td>3</td>\n",
       "      <td>145</td>\n",
       "      <td>233</td>\n",
       "      <td>...</td>\n",
       "      <td>2.3</td>\n",
       "      <td>0</td>\n",
       "      <td>0</td>\n",
       "      <td>1</td>\n",
       "      <td>1</td>\n",
       "    </tr>\n",
       "    <tr>\n",
       "      <th>1</th>\n",
       "      <td>37</td>\n",
       "      <td>1</td>\n",
       "      <td>2</td>\n",
       "      <td>130</td>\n",
       "      <td>250</td>\n",
       "      <td>...</td>\n",
       "      <td>3.5</td>\n",
       "      <td>0</td>\n",
       "      <td>0</td>\n",
       "      <td>2</td>\n",
       "      <td>1</td>\n",
       "    </tr>\n",
       "    <tr>\n",
       "      <th>2</th>\n",
       "      <td>41</td>\n",
       "      <td>0</td>\n",
       "      <td>1</td>\n",
       "      <td>130</td>\n",
       "      <td>204</td>\n",
       "      <td>...</td>\n",
       "      <td>1.4</td>\n",
       "      <td>2</td>\n",
       "      <td>0</td>\n",
       "      <td>2</td>\n",
       "      <td>1</td>\n",
       "    </tr>\n",
       "    <tr>\n",
       "      <th>3</th>\n",
       "      <td>56</td>\n",
       "      <td>1</td>\n",
       "      <td>1</td>\n",
       "      <td>120</td>\n",
       "      <td>236</td>\n",
       "      <td>...</td>\n",
       "      <td>0.8</td>\n",
       "      <td>2</td>\n",
       "      <td>0</td>\n",
       "      <td>2</td>\n",
       "      <td>1</td>\n",
       "    </tr>\n",
       "    <tr>\n",
       "      <th>4</th>\n",
       "      <td>57</td>\n",
       "      <td>0</td>\n",
       "      <td>0</td>\n",
       "      <td>120</td>\n",
       "      <td>354</td>\n",
       "      <td>...</td>\n",
       "      <td>0.6</td>\n",
       "      <td>2</td>\n",
       "      <td>0</td>\n",
       "      <td>2</td>\n",
       "      <td>1</td>\n",
       "    </tr>\n",
       "  </tbody>\n",
       "</table>\n",
       "<p>5 rows × 14 columns</p>\n",
       "</div>"
      ],
      "text/plain": [
       "   age  sex  cp  trestbps  chol  ...  oldpeak  slope  ca  thal  target\n",
       "0   63    1   3       145   233  ...      2.3      0   0     1       1\n",
       "1   37    1   2       130   250  ...      3.5      0   0     2       1\n",
       "2   41    0   1       130   204  ...      1.4      2   0     2       1\n",
       "3   56    1   1       120   236  ...      0.8      2   0     2       1\n",
       "4   57    0   0       120   354  ...      0.6      2   0     2       1\n",
       "\n",
       "[5 rows x 14 columns]"
      ]
     },
     "execution_count": 46,
     "metadata": {},
     "output_type": "execute_result"
    }
   ],
   "source": [
    "#Machine Learnig Code snippet\n",
    "#Load Data\n",
    "df = pd.read_csv(\"C:/Users/Swara/UCD Assessment/heart.csv\")\n",
    "df.shape\n",
    "df.head()\n"
   ]
  },
  {
   "cell_type": "code",
   "execution_count": 47,
   "id": "5374ea02",
   "metadata": {},
   "outputs": [
    {
     "data": {
      "text/plain": [
       "1    165\n",
       "0    138\n",
       "Name: target, dtype: int64"
      ]
     },
     "execution_count": 47,
     "metadata": {},
     "output_type": "execute_result"
    }
   ],
   "source": [
    "#how many class of one feature or target\n",
    "df[\"target\"].value_counts()"
   ]
  },
  {
   "cell_type": "code",
   "execution_count": 48,
   "id": "decc8a55",
   "metadata": {},
   "outputs": [
    {
     "data": {
      "text/plain": [
       "<AxesSubplot:>"
      ]
     },
     "execution_count": 48,
     "metadata": {},
     "output_type": "execute_result"
    },
    {
     "data": {
      "image/png": "[encoded data removed]",
      "text/plain": [
       "<Figure size 432x288 with 1 Axes>"
      ]
     },
     "metadata": {
      "needs_background": "light"
     },
     "output_type": "display_data"
    }
   ],
   "source": [
    "#bar chart\n",
    "df[\"target\"].value_counts().plot(kind='bar', color=[\"salmon\",\"lightblue\"])"
   ]
  },
  {
   "cell_type": "code",
   "execution_count": 49,
   "id": "407f1aeb",
   "metadata": {},
   "outputs": [
    {
     "name": "stdout",
     "output_type": "stream",
     "text": [
      "<class 'pandas.core.frame.DataFrame'>\n",
      "RangeIndex: 303 entries, 0 to 302\n",
      "Data columns (total 14 columns):\n",
      " #   Column    Non-Null Count  Dtype  \n",
      "---  ------    --------------  -----  \n",
      " 0   age       303 non-null    int64  \n",
      " 1   sex       303 non-null    int64  \n",
      " 2   cp        303 non-null    int64  \n",
      " 3   trestbps  303 non-null    int64  \n",
      " 4   chol      303 non-null    int64  \n",
      " 5   fbs       303 non-null    int64  \n",
      " 6   restecg   303 non-null    int64  \n",
      " 7   thalach   303 non-null    int64  \n",
      " 8   exang     303 non-null    int64  \n",
      " 9   oldpeak   303 non-null    float64\n",
      " 10  slope     303 non-null    int64  \n",
      " 11  ca        303 non-null    int64  \n",
      " 12  thal      303 non-null    int64  \n",
      " 13  target    303 non-null    int64  \n",
      "dtypes: float64(1), int64(13)\n",
      "memory usage: 33.3 KB\n"
     ]
    }
   ],
   "source": [
    "df.info()"
   ]
  },
  {
   "cell_type": "code",
   "execution_count": 50,
   "id": "4c79f0b9",
   "metadata": {},
   "outputs": [
    {
     "data": {
      "text/html": [
       "<div>\n",
       "<style scoped>\n",
       "    .dataframe tbody tr th:only-of-type {\n",
       "        vertical-align: middle;\n",
       "    }\n",
       "\n",
       "    .dataframe tbody tr th {\n",
       "        vertical-align: top;\n",
       "    }\n",
       "\n",
       "    .dataframe thead th {\n",
       "        text-align: right;\n",
       "    }\n",
       "</style>\n",
       "<table border=\"1\" class=\"dataframe\">\n",
       "  <thead>\n",
       "    <tr style=\"text-align: right;\">\n",
       "      <th>sex</th>\n",
       "      <th>0</th>\n",
       "      <th>1</th>\n",
       "    </tr>\n",
       "    <tr>\n",
       "      <th>target</th>\n",
       "      <th></th>\n",
       "      <th></th>\n",
       "    </tr>\n",
       "  </thead>\n",
       "  <tbody>\n",
       "    <tr>\n",
       "      <th>0</th>\n",
       "      <td>24</td>\n",
       "      <td>114</td>\n",
       "    </tr>\n",
       "    <tr>\n",
       "      <th>1</th>\n",
       "      <td>72</td>\n",
       "      <td>93</td>\n",
       "    </tr>\n",
       "  </tbody>\n",
       "</table>\n",
       "</div>"
      ],
      "text/plain": [
       "sex      0    1\n",
       "target         \n",
       "0       24  114\n",
       "1       72   93"
      ]
     },
     "execution_count": 50,
     "metadata": {},
     "output_type": "execute_result"
    }
   ],
   "source": [
    "#check missing values of all features\n",
    "df.isna().sum()\n",
    "df.describe()\n",
    "#Heart Disease Frequency according to Sex\n",
    "df.sex.value_counts()\n",
    "#Compare target and sex column\n",
    "pd.crosstab(df.target, df.sex)\n",
    "\n"
   ]
  },
  {
   "cell_type": "code",
   "execution_count": 51,
   "id": "8fc3a48c",
   "metadata": {},
   "outputs": [
    {
     "data": {
      "image/png": "[encoded data removed]",
      "text/plain": [
       "<Figure size 720x432 with 1 Axes>"
      ]
     },
     "metadata": {
      "needs_background": "light"
     },
     "output_type": "display_data"
    }
   ],
   "source": [
    "#Create plot of crosstab\n",
    "pd.crosstab(df.target, df.sex).plot(kind=\"bar\",figsize=(10,6),color=[\"salmon\",\"lightblue\"])\n",
    "plt.title(\"Heart Disease Frerquency for Sex\")\n",
    "plt.xlabel(\"0 = No Disease, 1=Disease\")\n",
    "plt.ylabel(\"Amount\")\n",
    "plt.legend([\"Female\",\"Male\"]);\n",
    "plt.xticks(rotation=0);"
   ]
  },
  {
   "cell_type": "code",
   "execution_count": 52,
   "id": "f4789fac",
   "metadata": {},
   "outputs": [
    {
     "data": {
      "text/plain": [
       "<matplotlib.legend.Legend at 0x19eeecf5b50>"
      ]
     },
     "execution_count": 52,
     "metadata": {},
     "output_type": "execute_result"
    },
    {
     "data": {
      "image/png": "[encoded data removed]",
      "text/plain": [
       "<Figure size 720x432 with 1 Axes>"
      ]
     },
     "metadata": {
      "needs_background": "light"
     },
     "output_type": "display_data"
    }
   ],
   "source": [
    "#Create new figure\n",
    "plt.figure(figsize=(10,6))\n",
    "\n",
    "#Scatter with positive examples\n",
    "plt.scatter(df.age[df.target==1],\n",
    "           df.thalach[df.target==1],\n",
    "           c=\"salmon\")\n",
    "\n",
    "#Scatter with negative examples\n",
    "plt.scatter(df.age[df.target==0],\n",
    "           df.thalach[df.target==0],\n",
    "           c=\"lightblue\");\n",
    "\n",
    "#Add some helpful info\n",
    "plt.title(\"Heart Disease in function of Age and Max Heart Rate\")\n",
    "plt.xlabel(\"Age\")\n",
    "plt.ylabel(\"Max Heart Rate\")\n",
    "plt.legend([\"Disease\",\"No Disease\"])"
   ]
  },
  {
   "cell_type": "code",
   "execution_count": 53,
   "id": "206c825a",
   "metadata": {},
   "outputs": [
    {
     "data": {
      "text/plain": [
       "<AxesSubplot:ylabel='Frequency'>"
      ]
     },
     "execution_count": 53,
     "metadata": {},
     "output_type": "execute_result"
    },
    {
     "data": {
      "image/png": "[encoded data removed]",
      "text/plain": [
       "<Figure size 432x288 with 1 Axes>"
      ]
     },
     "metadata": {
      "needs_background": "light"
     },
     "output_type": "display_data"
    }
   ],
   "source": [
    "#Check the distribution of the age column with a histogram\n",
    "#May check for outliers of the data\n",
    "df.age.plot.hist()"
   ]
  },
  {
   "cell_type": "code",
   "execution_count": 54,
   "id": "3c7dc4f0",
   "metadata": {},
   "outputs": [],
   "source": [
    "#Create a hyperparameter grid for LR\n",
    "log_reg_grid = {\"C\": np.logspace(-4,4,20),\n",
    "                \"solver\": [\"liblinear\"]}\n",
    "\n",
    "#Create a hyperparameter grid for RF\n",
    "rf_grid = {\"n_estimators\": np.arange(10,1000,50),\n",
    "          \"max_depth\": [None,3,5,10],\n",
    "          \"min_samples_split\": np.arange(2,20,2),\n",
    "          \"min_samples_leaf\": np.arange(1,20,2)}"
   ]
  },
  {
   "cell_type": "code",
   "execution_count": 55,
   "id": "f85f31ae",
   "metadata": {},
   "outputs": [
    {
     "name": "stdout",
     "output_type": "stream",
     "text": [
      "Fitting 5 folds for each of 20 candidates, totalling 100 fits\n",
      "Best Params :- "
     ]
    }
   ],
   "source": [
    "#Split data into X and y for training features and target variable\n",
    "X=df.drop(\"target\",axis=1)\n",
    "y=df[\"target\"]\n",
    "\n",
    "np.random.seed(42)\n",
    "X_train,X_test,y_train,y_test = train_test_split(X,y,test_size=0.2)\n",
    "\n",
    "# Setup random hyperparameter search for LogisticRegression\n",
    "rs_log_reg = RandomizedSearchCV(LogisticRegression(),\n",
    "                                param_distributions=log_reg_grid,\n",
    "                                cv=5,\n",
    "                                n_iter=20,\n",
    "                                verbose=True)\n",
    "\n",
    "# Fit random hyperparameter search model for LogisticRegression\n",
    "rs_log_reg.fit(X_train, y_train)\n",
    "print('Best Params :- ', end='')"
   ]
  },
  {
   "cell_type": "code",
   "execution_count": null,
   "id": "24d3e3e1",
   "metadata": {},
   "outputs": [],
   "source": []
  }
 ],
 "metadata": {
  "kernelspec": {
   "display_name": "Python 3 (ipykernel)",
   "language": "python",
   "name": "python3"
  },
  "language_info": {
   "codemirror_mode": {
    "name": "ipython",
    "version": 3
   },
   "file_extension": ".py",
   "mimetype": "text/x-python",
   "name": "python",
   "nbconvert_exporter": "python",
   "pygments_lexer": "ipython3",
   "version": "3.9.7"
  }
 },
 "nbformat": 4,
 "nbformat_minor": 5
}
